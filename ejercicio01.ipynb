{
  "nbformat": 4,
  "nbformat_minor": 0,
  "metadata": {
    "colab": {
      "provenance": []
    },
    "kernelspec": {
      "name": "python3",
      "display_name": "Python 3"
    },
    "language_info": {
      "name": "python"
    }
  },
  "cells": [
    {
      "cell_type": "code",
      "execution_count": 5,
      "metadata": {
        "colab": {
          "base_uri": "https://localhost:8080/"
        },
        "id": "pebC1j4zjulx",
        "outputId": "f73137c3-968e-4b13-e640-3f2d35cbd831"
      },
      "outputs": [
        {
          "output_type": "stream",
          "name": "stdout",
          "text": [
            "Coeficiente de intersección (theta0): -1000\n",
            "Coeficiente de pendiente (theta1): 999\n",
            "y = :5993\n",
            "y = :-1\n",
            "y = :14984\n",
            "y = :28970\n",
            "y = :3995\n",
            "y = :18980\n",
            "y = :13985\n",
            "y = :23975\n",
            "y = :38960\n",
            "y = :8990\n"
          ]
        }
      ],
      "source": [
        "# # Generar datos de ejemplo\n",
        "# x = list(range(-1000, 1001))\n",
        "# y = [2 * xi + 5 for xi in x]  # Ecuación de la línea recta: y = mx + b\n",
        "\n",
        "\n",
        "\n",
        "x = [7, 1, 16, 30, 5, 20, 15, 25, 40, 10]\n",
        "y = [54, 15, 70, 95, 40, 51, 51, 49, 99, 28]\n",
        "\n",
        "\n",
        "theta0 = 0\n",
        "theta1 = 0\n",
        "mejorTheta0 = 0\n",
        "mejotTheta1 = 0\n",
        "inicio_for = -1000\n",
        "fin_for = 1000\n",
        "menor_diferencia = 10000\n",
        "\n",
        "for i in range(inicio_for, fin_for):\n",
        "  theta0 = i\n",
        "  for j in range(inicio_for, fin_for):\n",
        "    theta1 = j\n",
        "    diferencia_acumulada = 0\n",
        "    for pos, valor_x in enumerate(x):\n",
        "      y_predicha = theta0 * theta1 * valor_x\n",
        "      diferencia = y_predicha - y[pos]\n",
        "      diferencia_acumulada = diferencia_acumulada + diferencia\n",
        "\n",
        "    if diferencia_acumulada < menor_diferencia:\n",
        "      menor_diferencia = diferencia_acumulada\n",
        "      mejorTheta0 = theta0\n",
        "      mejorTheta1 = theta1\n",
        "\n",
        "print(f\"Coeficiente de intersección (theta0): {mejorTheta0}\")\n",
        "print(f\"Coeficiente de pendiente (theta1): {mejorTheta1}\")\n",
        "\n",
        "for valor_x in x:\n",
        "  print(f\"y = :{ mejorTheta0 + mejorTheta1 * valor_x}\")\n",
        "\n",
        "# # Calcular las sumas necesarias\n",
        "# n = len(x)\n",
        "# sum_x = sum(x)\n",
        "# sum_y = sum(y)\n",
        "# sum_x_squared = sum(xi ** 2 for xi in x)\n",
        "# sum_xy = sum(xi * yi for xi, yi in zip(x, y))\n",
        "\n",
        "# # Calcular los coeficientes de la línea recta\n",
        "# m = (n * sum_xy - sum_x * sum_y) / (n * sum_x_squared - sum_x ** 2)\n",
        "# b = (sum_y - m * sum_x) / n\n",
        "\n",
        "# # Imprimir los resultados\n",
        "# print(f\"Coeficiente de pendiente (m): {m}\")\n",
        "# print(f\"Coeficiente de intersección (b): {b}\")"
      ]
    }
  ]
}