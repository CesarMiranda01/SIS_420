{
  "cells": [
    {
      "cell_type": "markdown",
      "metadata": {
        "id": "pE_iwdR5m6xH"
      },
      "source": [
        "[![Open In Colab](https://colab.research.google.com/assets/colab-badge.svg)](https://colab.research.google.com/github/sensioai/blog/blob/master/028_pytorch_nn/pytorch_nn.ipynb)"
      ]
    },
    {
      "cell_type": "markdown",
      "metadata": {
        "id": "DjhgRWO_m6xK"
      },
      "source": [
        "# Pytorch - Redes Neuronales"
      ]
    },
    {
      "cell_type": "markdown",
      "metadata": {
        "id": "CVNrcQ_5m6xK"
      },
      "source": [
        "En el post [anterior](https://sensioai.com/blog/027_pytorch_intro) hicimos una introducción al framework de `redes neuronales` `Pytorch`. Hablamos de sus tres elementos fundamentales: el objeto `tensor` (similar al `array` de `NumPy`) `autograd` (que nos permite calcular derivadas de manera automáticas) y el soporte GPU. En este post vamos a entrar en detalle en la  funcionalidad que nos ofrece la librería para diseñar redes neuronales de manera flexible."
      ]
    },
    {
      "cell_type": "code",
      "execution_count": 44,
      "metadata": {
        "id": "4hnzhQywm6xL"
      },
      "outputs": [],
      "source": [
        "#cambiar entorno de ejecucion a T4 GPU\n",
        "# es un framework de redes neuronales, uso es amplia en IA\n",
        "#hay otros como tensorflow, nosotros usamos pytorch en este caso\n",
        "#trabaja con tensores que son matrices multidimensionales\n",
        "import torch"
      ]
    },
    {
      "cell_type": "markdown",
      "metadata": {
        "id": "IqUKyQ9Nm6xM"
      },
      "source": [
        "## Modelos secuenciales"
      ]
    },
    {
      "cell_type": "markdown",
      "metadata": {
        "id": "MDSz2Mbsm6xM"
      },
      "source": [
        "La forma más sencilla de definir una `red neuronal` en `Pytorch` es utilizando la clase `Sequentail`. Esta clase nos permite definir una secuencia de capas, que se aplicarán de manera secuencial (las salidas de una capa serán la entrada de la siguiente). Ésto ya lo conocemos de posts anteriores, ya que es la forma ideal de definir un `Perceptrón Multicapa`."
      ]
    },
    {
      "cell_type": "code",
      "execution_count": 45,
      "metadata": {
        "id": "V5KEpUHVm6xN"
      },
      "outputs": [],
      "source": [
        "# una implementacion de modelo de red neuronal\n",
        "# variables de netrada, variable o neuronas en la capa oculta, y variables de salida.\n",
        "# 28*28=784  todos los datos que vamos a cargar, 100 se puede aumentar o disminuir ver conveniente.\n",
        "# y la salida es 10 de 0 al 9\n",
        "#torch.nn uso para redes neuronales\n",
        "D_in, H, D_out = 784, 100, 10\n",
        "#nn es el mudole para hacer uso de las redes neuronales\n",
        "model = torch.nn.Sequential(\n",
        "    #primera capa\n",
        "    torch.nn.Linear(D_in, H),\n",
        "    # reLU para que nos ayude a parender patrones solo es funcion de activaion\n",
        "    torch.nn.ReLU(),\n",
        "    #\n",
        "    torch.nn.Linear(H, D_out),\n",
        ")\n",
        "\n",
        "# D_in, H1, H2, D_out = 784, 100, 50, 10\n",
        "# model = torch.nn.Sequential(\n",
        "#     torch.nn.Linear(D_in, H1),\n",
        "#     torch.nn.ReLU(),\n",
        "#     torch.nn.Linear(H1, H2),\n",
        "#     torch.nn.ReLU(),\n",
        "#     torch.nn.Linear(H2, D_out),\n",
        "# )\n"
      ]
    },
    {
      "cell_type": "markdown",
      "metadata": {
        "id": "8Ea8TfSWm6xO"
      },
      "source": [
        "El modelo anterior es un `MLP` con 784 entradas, 100 neuronas en la capa oculta y 10 salidas. Podemos usar este modelo para hacer un clasificador de imágenes con el dataset MNIST. Pero primero, vamos a ver como podemos calcular las salidas del modelo a partir de unas entradas de ejemplo."
      ]
    },
    {
      "cell_type": "code",
      "execution_count": 46,
      "metadata": {
        "colab": {
          "base_uri": "https://localhost:8080/"
        },
        "id": "WVB30MPem6xO",
        "outputId": "76bf7c10-b58f-48d2-df3d-d8cc8c931c33"
      },
      "outputs": [
        {
          "output_type": "execute_result",
          "data": {
            "text/plain": [
              "torch.Size([64, 10])"
            ]
          },
          "metadata": {},
          "execution_count": 46
        }
      ],
      "source": [
        "#\n",
        "outputs = model(torch.randn(64, 784))\n",
        "outputs.shape"
      ]
    },
    {
      "cell_type": "code",
      "execution_count": 47,
      "metadata": {
        "colab": {
          "base_uri": "https://localhost:8080/"
        },
        "id": "x7mk9EVzLeBV",
        "outputId": "8e2e4033-070c-4e1d-9794-2a04cd3428d2"
      },
      "outputs": [
        {
          "output_type": "stream",
          "name": "stdout",
          "text": [
            "tensor([-0.3513, -0.2152,  0.0714,  0.3664,  0.2152,  0.3698, -0.1295,  0.0638,\n",
            "         0.3379, -0.0195], grad_fn=<SliceBackward0>)\n"
          ]
        }
      ],
      "source": [
        "\n",
        "print(outputs[0][:])"
      ]
    },
    {
      "cell_type": "markdown",
      "metadata": {
        "id": "I-J9Sa6Qm6xP"
      },
      "source": [
        "Como puedes ver, simplemente le pasamos los inputs al modelo (llamándolo como una función). En este caso, usamos un tensor con 64 vectores de 784 valores. Es importante remarcar que los modelos de `Pytorch` (por lo general) siempre esperan que la primera dimensión sea la dimensión *batch*. Si queremos entrenar esta red en una GPU, es tan sencillo como"
      ]
    },
    {
      "cell_type": "code",
      "execution_count": 48,
      "metadata": {
        "colab": {
          "base_uri": "https://localhost:8080/"
        },
        "id": "VjtJxIM_m6xQ",
        "outputId": "5bea1302-0d66-4baf-9628-015989844427"
      },
      "outputs": [
        {
          "output_type": "execute_result",
          "data": {
            "text/plain": [
              "Sequential(\n",
              "  (0): Linear(in_features=784, out_features=100, bias=True)\n",
              "  (1): ReLU()\n",
              "  (2): Linear(in_features=100, out_features=10, bias=True)\n",
              ")"
            ]
          },
          "metadata": {},
          "execution_count": 48
        }
      ],
      "source": [
        "model.to(\"cuda\")"
      ]
    },
    {
      "cell_type": "code",
      "source": [
        "from google.colab import drive\n",
        "drive.mount('/content/drive')"
      ],
      "metadata": {
        "colab": {
          "base_uri": "https://localhost:8080/"
        },
        "id": "INYanE35QoVQ",
        "outputId": "c944ca9a-a61e-4c81-fbb7-22f995be31ca"
      },
      "execution_count": 49,
      "outputs": [
        {
          "output_type": "stream",
          "name": "stdout",
          "text": [
            "Drive already mounted at /content/drive; to attempt to forcibly remount, call drive.mount(\"/content/drive\", force_remount=True).\n"
          ]
        }
      ]
    },
    {
      "cell_type": "markdown",
      "metadata": {
        "id": "ZxmpSqz6m6xQ"
      },
      "source": [
        "Vamos a ver ahora como entrenar este modelo con el dataset MNIST."
      ]
    },
    {
      "cell_type": "code",
      "execution_count": 59,
      "metadata": {
        "id": "OmlXe8Gpm6xR",
        "colab": {
          "base_uri": "https://localhost:8080/"
        },
        "outputId": "f9707d71-675b-4e5a-e769-297833a3eeae"
      },
      "outputs": [
        {
          "output_type": "stream",
          "name": "stdout",
          "text": [
            "<class 'pandas.core.frame.DataFrame'>\n",
            "RangeIndex: 88799 entries, 0 to 88798\n",
            "Columns: 785 entries, 0 to W\n",
            "dtypes: int64(784), object(1)\n",
            "memory usage: 531.8+ MB\n"
          ]
        }
      ],
      "source": [
        "# from sklearn.datasets import fetch_openml\n",
        "\n",
        "# # descarga datos\n",
        "\n",
        "# mnist = fetch_openml('mnist_784', version=1)\n",
        "# X, Y = mnist[\"data\"], mnist[\"target\"]\n",
        "\n",
        "# X.shape, Y.shape\n",
        "\n",
        "# import gdown\n",
        "# import os\n",
        "\n",
        "# # Enlace de Google Drive al archivo MNIST_784\n",
        "# from sklearn.datasets import fetch_openml\n",
        "# google_drive_url = '/content/drive/MyDrive/SIS420/Laboratorios/Laboratorio4/dataset_emnist.csv'\n",
        "\n",
        "# # Ruta local para guardar el archivo descargado\n",
        "# local_file_path = '/content/dataset_emnist.csv'  # Agregamos '/content/' al principio\n",
        "\n",
        "# # Descargar el archivo desde Google Drive\n",
        "# if not os.path.exists(local_file_path):\n",
        "#     gdown.download(google_drive_url, local_file_path, quiet=False)\n",
        "\n",
        "# Cargar datos desde el archivo descargado\n",
        "# mnist = fetch_openml('dataset_emnist', version=1, data_home='/content/')\n",
        "# mnist = np.loadtxt(\"/content/drive/MyDrive/SIS420/Laboratorios/Laboratorio4/dataset_emnist.csv\", delimiter=',',skiprows=1)\n",
        "\n",
        "# mnist = fetch_openml('mnist_784', version=1)\n",
        "# X, Y = mnist[\"data\"], mnist[\"target\"]\n",
        "import numpy as np\n",
        "import pandas as pd\n",
        "mnist = pd.read_csv(\"/content/drive/MyDrive/SIS420/Laboratorios/Laboratorio4/dataset_emnist.csv\")\n",
        "# Tomar solo las primeras 70,000 filas\n",
        "# mnist = mnist.to_numpy()\n",
        "# X, Y = mnist[:, 1:], mnist[:, 0]\n",
        "# print(X.shape, Y.shape)\n",
        "mnist.info()"
      ]
    },
    {
      "cell_type": "code",
      "source": [
        "# Eliminar la última columna\n",
        "mnist.drop(columns=['W'], inplace=True)\n",
        "# # Obtener el nombre de la penúltima columna\n",
        "# penultimate_column_name = mnist.columns[-2]\n",
        "# # Crear una nueva columna con los mismos valores y tipo que la penúltima columna\n",
        "# mnist['Nueva_Columna'] = mnist[penultimate_column_name]\n",
        "# # Convertir la penúltima columna a int64\n",
        "# data['V'] = data['V'].astype(int)\n",
        "mnist.info()\n",
        "# Imprimir el número de columnas después de agregar 'Nueva_Columna'\n",
        "# print(\"Número de columnas después de agregar 'Nueva_Columna':\", len(mnist.columns))"
      ],
      "metadata": {
        "colab": {
          "base_uri": "https://localhost:8080/"
        },
        "id": "XYkKLsiBa1Au",
        "outputId": "7f0be2c7-3dcd-4831-c75b-32374eaa6842"
      },
      "execution_count": 60,
      "outputs": [
        {
          "output_type": "stream",
          "name": "stdout",
          "text": [
            "<class 'pandas.core.frame.DataFrame'>\n",
            "RangeIndex: 88799 entries, 0 to 88798\n",
            "Columns: 784 entries, 0 to 0.415\n",
            "dtypes: int64(784)\n",
            "memory usage: 531.1 MB\n"
          ]
        }
      ]
    },
    {
      "cell_type": "code",
      "execution_count": 62,
      "metadata": {
        "id": "BzhE25udm6xR",
        "colab": {
          "base_uri": "https://localhost:8080/",
          "height": 256
        },
        "outputId": "5652d3e6-c324-4aaf-f970-ec16089334d0"
      },
      "outputs": [
        {
          "output_type": "error",
          "ename": "ValueError",
          "evalue": "ignored",
          "traceback": [
            "\u001b[0;31m---------------------------------------------------------------------------\u001b[0m",
            "\u001b[0;31mValueError\u001b[0m                                Traceback (most recent call last)",
            "\u001b[0;32m<ipython-input-62-5d193914d5f1>\u001b[0m in \u001b[0;36m<cell line: 5>\u001b[0;34m()\u001b[0m\n\u001b[1;32m      3\u001b[0m \u001b[0my_2\u001b[0m\u001b[0;34m=\u001b[0m\u001b[0mnp\u001b[0m\u001b[0;34m.\u001b[0m\u001b[0marray\u001b[0m\u001b[0;34m(\u001b[0m\u001b[0mY\u001b[0m\u001b[0;34m)\u001b[0m\u001b[0;34m\u001b[0m\u001b[0;34m\u001b[0m\u001b[0m\n\u001b[1;32m      4\u001b[0m \u001b[0;31m# Convertir las cadenas a números\u001b[0m\u001b[0;34m\u001b[0m\u001b[0;34m\u001b[0m\u001b[0m\n\u001b[0;32m----> 5\u001b[0;31m \u001b[0mx_2\u001b[0m \u001b[0;34m=\u001b[0m \u001b[0mx_2\u001b[0m\u001b[0;34m.\u001b[0m\u001b[0mastype\u001b[0m\u001b[0;34m(\u001b[0m\u001b[0mfloat\u001b[0m\u001b[0;34m)\u001b[0m\u001b[0;34m\u001b[0m\u001b[0;34m\u001b[0m\u001b[0m\n\u001b[0m\u001b[1;32m      6\u001b[0m \u001b[0;31m# normalización y split\u001b[0m\u001b[0;34m\u001b[0m\u001b[0;34m\u001b[0m\u001b[0m\n\u001b[1;32m      7\u001b[0m \u001b[0;34m\u001b[0m\u001b[0m\n",
            "\u001b[0;31mValueError\u001b[0m: could not convert string to float: 'G'"
          ]
        }
      ],
      "source": [
        "# normalización y split\n",
        "x_2=np.array(X)\n",
        "y_2=np.array(Y)\n",
        "# Convertir las cadenas a números\n",
        "x_2 = x_2.astype(float)\n",
        "# normalización y split\n",
        "\n",
        "X_train =x_2[:60000] / 255.\n",
        "X_test =x_2[60000:] / 255.\n",
        "y_train = y_2[:60000].astype(np.int)\n",
        "y_test = y_2[60000:].astype(np.int)\n",
        "\n",
        "\n",
        "\n",
        "# X_train, X_test, y_train, y_test = X[:60000] / 255., X[60000:] / 255., Y[:60000].astype(np.float32), Y[60000:].astype(np.float32)"
      ]
    },
    {
      "cell_type": "code",
      "execution_count": null,
      "metadata": {
        "id": "pDJK07Jpm6xR"
      },
      "outputs": [],
      "source": [
        "# función de pérdida y derivada\n",
        "\n",
        "def softmax(x):\n",
        "    return torch.exp(x) / torch.exp(x).sum(axis=-1,keepdims=True)\n",
        "\n",
        "def cross_entropy(output, target):\n",
        "    logits = output[torch.arange(len(output)), target]\n",
        "    loss = - logits + torch.log(torch.sum(torch.exp(output), axis=-1))\n",
        "    loss = loss.mean()\n",
        "    return loss"
      ]
    },
    {
      "cell_type": "code",
      "execution_count": null,
      "metadata": {
        "id": "E0mXU4_t5c-n"
      },
      "outputs": [],
      "source": [
        "# X_train"
      ]
    },
    {
      "cell_type": "code",
      "execution_count": null,
      "metadata": {
        "id": "qHL3LiGejvr0"
      },
      "outputs": [],
      "source": [
        "torch.cuda.is_available()"
      ]
    },
    {
      "cell_type": "code",
      "execution_count": null,
      "metadata": {
        "id": "tZCJjxDZyenK"
      },
      "outputs": [],
      "source": [
        "print(X)"
      ]
    },
    {
      "cell_type": "code",
      "execution_count": null,
      "metadata": {
        "id": "EjdhOJ90m6xS"
      },
      "outputs": [],
      "source": [
        "# convertimos datos a tensores y copiamos en gpu\n",
        "\n",
        "X_t = torch.from_numpy(X_train).float().cuda()\n",
        "Y_t = torch.from_numpy(y_train).long().cuda()\n",
        "\n",
        "# bucle entrenamiento\n",
        "epochs = 100\n",
        "lr = 0.8\n",
        "log_each = 10\n",
        "l = []\n",
        "for e in range(1, epochs + 1):\n",
        "\n",
        "    # forward\n",
        "    y_pred = model(X_t)\n",
        "\n",
        "    # loss\n",
        "    loss = cross_entropy(y_pred, Y_t)\n",
        "    l.append(loss.item())\n",
        "\n",
        "    # ponemos a cero los gradientes\n",
        "    model.zero_grad()\n",
        "\n",
        "    # Backprop (calculamos todos los gradientes automáticamente)\n",
        "    loss.backward()\n",
        "\n",
        "    # update de los pesos\n",
        "    with torch.no_grad():\n",
        "        for param in model.parameters():\n",
        "            param -= lr * param.grad\n",
        "\n",
        "    if not e % log_each:\n",
        "        print(f\"Epoch {e}/{epochs} Loss {np.mean(l):.5f}\")"
      ]
    },
    {
      "cell_type": "markdown",
      "metadata": {
        "id": "5tCiIuSvm6xT"
      },
      "source": [
        "Como puedes observar en el ejemplo, podemos calcular la salida del modelo con una simple línea. Luego calculamos la función de pérdida, y llamando a la función `backward` `Pytorch` se encarga de calcular las derivadas de la misma con respecto a todos los parámetros del modelo automáticamente (si no queremos acumular estos gradientes, nos aseguramos de llamar a la función `zero_grad` para ponerlos a cero antes de calcularlos). Por útlimo, podemos iterar por los parámetros del modelo aplicando la regla de actualización deseada (en este caso usamos `descenso por gradiente`)."
      ]
    },
    {
      "cell_type": "code",
      "execution_count": null,
      "metadata": {
        "id": "Ufomq0IIm6xT"
      },
      "outputs": [],
      "source": [
        "from sklearn.metrics import accuracy_score\n",
        "\n",
        "def evaluate(x):\n",
        "    model.eval()\n",
        "    y_pred = model(x)\n",
        "    y_probas = softmax(y_pred)\n",
        "    return torch.argmax(y_probas, axis=1)\n",
        "\n",
        "y_pred = evaluate(torch.from_numpy(X_test).float().cuda())\n",
        "accuracy_score(y_test, y_pred.cpu().numpy())"
      ]
    },
    {
      "cell_type": "markdown",
      "metadata": {
        "id": "lafBMelim6xT"
      },
      "source": [
        "Existen algunos tipos de capas que se comportan diferente en función de si estamos entrenando la red o usándola para generar predicciones. Podemos controlar el modo en el que queremos que esté nuestra red con las funciones `train` y `eval`."
      ]
    },
    {
      "cell_type": "markdown",
      "metadata": {
        "id": "bQJhUWy2m6xT"
      },
      "source": [
        "## Optimizadores y Funciones de pérdida"
      ]
    },
    {
      "cell_type": "markdown",
      "metadata": {
        "id": "wnj54ahUm6xU"
      },
      "source": [
        "En el ejemplo anterior hemos calculado la función de pérdida y aplicado la regla de optimización de forma manual. Sin embargo, `Pytorch` nos ofrece funcionalidad que nos abstrae estos cálculos ofreciendo además flexibilidad para aplicar diferentes funciones de pérdida o algoritmos de optimización de manera sencilla. Podemos encontrar diferentes funciones de pérdida ya implementadas en el paquete `torch.nn`."
      ]
    },
    {
      "cell_type": "code",
      "execution_count": null,
      "metadata": {
        "id": "8ZmyhLd5m6xU"
      },
      "outputs": [],
      "source": [
        "criterion = torch.nn.CrossEntropyLoss()"
      ]
    },
    {
      "cell_type": "markdown",
      "metadata": {
        "id": "Yz70Aprzm6xU"
      },
      "source": [
        "Mientras que los optimizadores se encuentran en el paquete `torch.optim`"
      ]
    },
    {
      "cell_type": "code",
      "execution_count": null,
      "metadata": {
        "id": "X8-BU1mbm6xU"
      },
      "outputs": [],
      "source": [
        "optimizer = torch.optim.SGD(model.parameters(), lr=0.8)"
      ]
    },
    {
      "cell_type": "markdown",
      "metadata": {
        "id": "GmOzqwGXm6xV"
      },
      "source": [
        "Puedes ver la lista completa de funciones de pérdida y optimizadores disponibles en la [documentación](https://pytorch.org/docs/stable/index.html), aunque como ya has visto siempre puedes definir los tuyos propios fácilmente.\n",
        "\n",
        "Una vez definidos estos dos objetos, nuestro bucle de entrenamiento se simplifica considerablemente."
      ]
    },
    {
      "cell_type": "code",
      "execution_count": null,
      "metadata": {
        "id": "oz7CgSjum6xV"
      },
      "outputs": [],
      "source": [
        "model = torch.nn.Sequential(\n",
        "    torch.nn.Linear(D_in, H),\n",
        "    torch.nn.ReLU(),\n",
        "    torch.nn.Linear(H, D_out),\n",
        ").to(\"cuda\")\n",
        "\n",
        "criterion = torch.nn.CrossEntropyLoss()\n",
        "optimizer = torch.optim.SGD(model.parameters(), lr=0.8)\n",
        "\n",
        "epochs = 100\n",
        "log_each = 10\n",
        "l = []\n",
        "model.train()\n",
        "for e in range(1, epochs+1):\n",
        "\n",
        "    # forward\n",
        "    y_pred = model(X_t)\n",
        "\n",
        "    # loss\n",
        "    loss = criterion(y_pred, Y_t)\n",
        "    l.append(loss.item())\n",
        "\n",
        "    # ponemos a cero los gradientes\n",
        "    optimizer.zero_grad()\n",
        "\n",
        "    # Backprop (calculamos todos los gradientes automáticamente)\n",
        "    loss.backward()\n",
        "\n",
        "    # update de los pesos\n",
        "    optimizer.step()\n",
        "\n",
        "    if not e % log_each:\n",
        "        print(f\"Epoch {e}/{epochs} Loss {np.mean(l):.5f}\")\n",
        "\n",
        "y_pred = evaluate(torch.from_numpy(X_test).float().cuda())\n",
        "accuracy_score(y_test, y_pred.cpu().numpy())"
      ]
    },
    {
      "cell_type": "markdown",
      "metadata": {
        "id": "ipyuFlAIm6xV"
      },
      "source": [
        "## Modelos custom"
      ]
    },
    {
      "cell_type": "markdown",
      "metadata": {
        "id": "_uh7djQTm6xV"
      },
      "source": [
        "Si bien en muchos casos definir una `red neuronal` como una secuencia de capas es suficiente, en otros casos será un factor limitante. Un ejemplo son las redes residuales, en las que no sólo utilizamos la salida de una capa para alimentar la siguiente si no que, además, le sumamos su propia entrada. Este tipo de arquitectura no puede ser definida con la clase `Sequential`, y para ello necesitamos hacer un modelo *customizado*. Para ello, `Pytroch` nos ofrece la siguiente sintaxis."
      ]
    },
    {
      "cell_type": "code",
      "execution_count": null,
      "metadata": {
        "id": "zP6-77c5m6xW"
      },
      "outputs": [],
      "source": [
        "# creamos una clase que hereda de `torch.nn.Module`\n",
        "\n",
        "class ModeloPersonalizado(torch.nn.Module):\n",
        "\n",
        "    # constructor\n",
        "    def __init__(self, D_in, H, D_out):\n",
        "\n",
        "        # llamamos al constructor de la clase madre\n",
        "        super(ModeloPersonalizado, self).__init__()\n",
        "\n",
        "        # definimos nuestras capas\n",
        "        self.fc1 = torch.nn.Linear(D_in, H)\n",
        "        self.relu = torch.nn.ReLU()\n",
        "        self.fc2 = torch.nn.Linear(H, D_out)\n",
        "\n",
        "    # lógica para calcular las salidas de la red\n",
        "    def forward(self, x):\n",
        "        x = self.fc1(x)\n",
        "        x = self.relu(x)\n",
        "        x = self.fc2(x)\n",
        "        return x"
      ]
    },
    {
      "cell_type": "markdown",
      "metadata": {
        "id": "2jwizXIgm6xW"
      },
      "source": [
        "En primer lugar, necesitamos definir una nueva clase que herede de la clase `torch.nn.Module`. Esta clase madre aportará toda la funcionalidad esencial que necesita una `red neuronal` (soporte GPU, iterar por sus parámeteros, etc). Luego, en esta clase necesitamos definir mínimos dos funciones:\n",
        "\n",
        "- `init`: en el constructor llamaremos al constructor de la clase madre y después definiremos todas las capas que querramos usar en la red.\n",
        "- `forward`: en esta función definimos toda la lógica que aplicaremos desde que recibimos los inputs hasta que devolvemos los outputs.\n",
        "\n",
        "En el ejemplo anterior simplemente hemos replicado la misma red (puedes conseguir el mismo efecto usando la clase `Sequential`)."
      ]
    },
    {
      "cell_type": "code",
      "execution_count": null,
      "metadata": {
        "id": "zhaXSvoVm6xW"
      },
      "outputs": [],
      "source": [
        "model = ModeloPersonalizado(784, 100, 10)\n",
        "# Codigo para saber si el modelo esta votando los datos en las cantidades correctas\n",
        "x_prueba = torch.randn(64, 784)\n",
        "print(x_prueba)\n",
        "outputs = model(x_prueba)\n",
        "outputs.shape"
      ]
    },
    {
      "cell_type": "markdown",
      "metadata": {
        "id": "_RkPO5hum6xW"
      },
      "source": [
        "Ahora, podemos entrenar nuestra red de la misma forma que lo hemos hecho anteriormente."
      ]
    },
    {
      "cell_type": "code",
      "execution_count": null,
      "metadata": {
        "id": "idh4YMn6m6xX"
      },
      "outputs": [],
      "source": [
        "model.to(\"cuda\")\n",
        "criterion = torch.nn.CrossEntropyLoss()\n",
        "optimizer = torch.optim.SGD(model.parameters(), lr=0.8)\n",
        "\n",
        "epochs = 100\n",
        "log_each = 10\n",
        "l = []\n",
        "model.train()\n",
        "for e in range(1, epochs+1):\n",
        "\n",
        "    # forward\n",
        "    y_pred = model(X_t)\n",
        "\n",
        "    # loss\n",
        "    loss = criterion(y_pred, Y_t)\n",
        "    l.append(loss.item())\n",
        "\n",
        "    # ponemos a cero los gradientes\n",
        "    optimizer.zero_grad()\n",
        "\n",
        "    # Backprop (calculamos todos los gradientes automáticamente)\n",
        "    loss.backward()\n",
        "\n",
        "    # update de los pesos\n",
        "    optimizer.step()\n",
        "\n",
        "    if not e % log_each:\n",
        "        print(f\"Epoch {e}/{epochs} Loss {np.mean(l):.5f}\")\n",
        "\n",
        "y_pred = evaluate(torch.from_numpy(X_test).float().cuda())\n",
        "accuracy_score(y_test, y_pred.cpu().numpy())"
      ]
    },
    {
      "cell_type": "markdown",
      "metadata": {
        "id": "Rh3bxMrmm6xX"
      },
      "source": [
        "Aquí puedes ver otro ejemplo de como definir un `MLP` con conexiones residuales, algo que no podemos hacer simplemente usando un modelo secuencial."
      ]
    },
    {
      "cell_type": "code",
      "execution_count": null,
      "metadata": {
        "id": "l-6qAZn1m6xX"
      },
      "outputs": [],
      "source": [
        "class ModelCustom2(torch.nn.Module):\n",
        "\n",
        "    def __init__(self, D_in, H, D_out):\n",
        "        super(ModelCustom2, self).__init__()\n",
        "        self.fc1 = torch.nn.Linear(D_in, H)\n",
        "        self.relu = torch.nn.ReLU()\n",
        "        self.fc2 = torch.nn.Linear(H, D_out)\n",
        "\n",
        "    def forward(self, x):\n",
        "        x1 = self.fc1(x)\n",
        "        x = self.relu(x1)\n",
        "        x = self.fc2(x + x1)\n",
        "        return x"
      ]
    },
    {
      "cell_type": "code",
      "execution_count": null,
      "metadata": {
        "id": "EaSLokO7m6xX"
      },
      "outputs": [],
      "source": [
        "model = ModelCustom2(784, 100, 10).to(\"cuda\")\n",
        "criterion = torch.nn.CrossEntropyLoss()\n",
        "optimizer = torch.optim.SGD(model.parameters(), lr=0.2)\n",
        "\n",
        "epochs = 100\n",
        "log_each = 10\n",
        "l = []\n",
        "model.train()\n",
        "for e in range(1, epochs+1):\n",
        "\n",
        "    # forward\n",
        "    y_pred = model(X_t)\n",
        "\n",
        "    # loss\n",
        "    loss = criterion(y_pred, Y_t)\n",
        "    l.append(loss.item())\n",
        "\n",
        "    # ponemos a cero los gradientes\n",
        "    optimizer.zero_grad()\n",
        "\n",
        "    # Backprop (calculamos todos los gradientes automáticamente)\n",
        "    loss.backward()\n",
        "\n",
        "    # update de los pesos\n",
        "    optimizer.step()\n",
        "\n",
        "    if not e % log_each:\n",
        "        print(f\"Epoch {e}/{epochs} Loss {np.mean(l):.5f}\")\n",
        "\n",
        "y_pred = evaluate(torch.from_numpy(X_test).float().cuda())\n",
        "accuracy_score(y_test, y_pred.cpu().numpy())"
      ]
    },
    {
      "cell_type": "markdown",
      "metadata": {
        "id": "sgoJC4nIm6xY"
      },
      "source": [
        "De esta manera, tenemos mucha flexibilidad para definir nuestras redes."
      ]
    },
    {
      "cell_type": "markdown",
      "metadata": {
        "id": "s1ZrxJsJm6xY"
      },
      "source": [
        "## Accediendo a las capas de una red"
      ]
    },
    {
      "cell_type": "markdown",
      "metadata": {
        "id": "TC470LoYm6xY"
      },
      "source": [
        "En ocasiones queremos acceder a una capa en particular de nuestra red. Para ello, podemos acceder utilizando su nombre."
      ]
    },
    {
      "cell_type": "code",
      "execution_count": null,
      "metadata": {
        "id": "K5VAtILVm6xY"
      },
      "outputs": [],
      "source": [
        "model"
      ]
    },
    {
      "cell_type": "code",
      "execution_count": null,
      "metadata": {
        "id": "_EfUdON5m6xY"
      },
      "outputs": [],
      "source": [
        "model.fc1"
      ]
    },
    {
      "cell_type": "markdown",
      "metadata": {
        "id": "5vXjUwhmm6xZ"
      },
      "source": [
        "También podemos acceder directamente a los tensores que contienen los parámetros con las propiedades adecuadas"
      ]
    },
    {
      "cell_type": "code",
      "execution_count": null,
      "metadata": {
        "id": "C6Wy_6cXm6xZ"
      },
      "outputs": [],
      "source": [
        "model.fc1.weight"
      ]
    },
    {
      "cell_type": "code",
      "execution_count": null,
      "metadata": {
        "id": "5TbpHDGKm6xZ"
      },
      "outputs": [],
      "source": [
        "model.fc1.bias"
      ]
    },
    {
      "cell_type": "markdown",
      "metadata": {
        "id": "oqraljgym6xZ"
      },
      "source": [
        "Es posible sobreescribir una capa de la siguiente manera"
      ]
    },
    {
      "cell_type": "code",
      "execution_count": null,
      "metadata": {
        "id": "xIwyV17em6xZ"
      },
      "outputs": [],
      "source": [
        "model.fc2 = torch.nn.Linear(100, 1)\n",
        "\n",
        "model"
      ]
    },
    {
      "cell_type": "markdown",
      "metadata": {
        "id": "eVLw3r9im6xZ"
      },
      "source": [
        "Ahora, la capa final de nuestra red tiene solo una salida. Esta nueva capa ha sido inicializada de manera aleatoria, por lo que esta nueva red no nos va a servir de mucho. Sin embargo, podríamos volver a entrenar esta red en otro problema en el que solo necesitemos una salida aprovechando los pesos que ya hemos entrenado anteriormente con el dataset MNIST. Esto es la base del *transfer learning*, una técnica que utilizaremos muchísimo más adelante y la cual explicaremos en detalle.\n",
        "\n",
        "A continuación encontrarás varios trucos a la hora de crear redes neuronales a partir de otras que te pueden resultar útiles."
      ]
    },
    {
      "cell_type": "code",
      "execution_count": null,
      "metadata": {
        "id": "JfE83wXtm6xZ"
      },
      "outputs": [],
      "source": [
        "# obtener una lista con las capas de una red\n",
        "\n",
        "list(model.children())"
      ]
    },
    {
      "cell_type": "code",
      "execution_count": null,
      "metadata": {
        "id": "wkaUklFHm6xa"
      },
      "outputs": [],
      "source": [
        "# crear nueva red a partir de la lista (excluyendo las útlimas dos capa)\n",
        "\n",
        "new_model = torch.nn.Sequential(*list(model.children())[:-2])\n",
        "new_model"
      ]
    },
    {
      "cell_type": "code",
      "execution_count": null,
      "metadata": {
        "id": "AcGFOSU5m6xa"
      },
      "outputs": [],
      "source": [
        "# crear nueva red a partir de la lista (excluyendo las útlima capa)\n",
        "\n",
        "new_model = torch.nn.ModuleList(list(model.children())[:-1])\n",
        "new_model"
      ]
    },
    {
      "cell_type": "markdown",
      "metadata": {
        "id": "2IanjDRkm6xa"
      },
      "source": [
        "## Resumen"
      ]
    },
    {
      "cell_type": "markdown",
      "metadata": {
        "id": "PwR1F8c9m6xa"
      },
      "source": [
        "En este post hemos visto la funcionalidad que `Pytorch` nos ofrece a la hora de definir y entrenar nuestras `redes neuronales`. El paquete `torch.nn` contiene todo lo necesario para diseñar nuestros modelos, ya sea de manera secuencial o con una clase *custom* para arquitecturas más complicadas. También nos da muchas funciones de pérdida que podemos usar directamente para entrenar las redes. Te recomiendo encarecidamente que le eches un vistazo a la [documentación](https://pytorch.org/docs/stable/nn.html) par hacerte una idea de todo lo que puedes hacer. También hemos visto como el paquete `torch.optim` nos oferece algoritmos de optimización que también nos hacen la vida más fácil a la hora de entrenar nuestras redes."
      ]
    }
  ],
  "metadata": {
    "accelerator": "GPU",
    "colab": {
      "provenance": []
    },
    "gpuClass": "standard",
    "kernelspec": {
      "display_name": "Python 3",
      "language": "python",
      "name": "python3"
    },
    "language_info": {
      "codemirror_mode": {
        "name": "ipython",
        "version": 3
      },
      "file_extension": ".py",
      "mimetype": "text/x-python",
      "name": "python",
      "nbconvert_exporter": "python",
      "pygments_lexer": "ipython3",
      "version": "3.8.3"
    },
    "toc": {
      "base_numbering": 1,
      "nav_menu": {},
      "number_sections": true,
      "sideBar": true,
      "skip_h1_title": false,
      "title_cell": "Table of Contents",
      "title_sidebar": "Contents",
      "toc_cell": false,
      "toc_position": {
        "height": "calc(100% - 180px)",
        "left": "10px",
        "top": "150px",
        "width": "233.594px"
      },
      "toc_section_display": true,
      "toc_window_display": false
    }
  },
  "nbformat": 4,
  "nbformat_minor": 0
}