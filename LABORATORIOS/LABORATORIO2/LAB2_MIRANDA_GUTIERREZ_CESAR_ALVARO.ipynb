{
  "nbformat": 4,
  "nbformat_minor": 0,
  "metadata": {
    "colab": {
      "provenance": []
    },
    "kernelspec": {
      "name": "python3",
      "display_name": "Python 3"
    },
    "language_info": {
      "name": "python"
    }
  },
  "cells": [
    {
      "cell_type": "code",
      "execution_count": 19,
      "metadata": {
        "id": "I3cTiZZ_2fsD"
      },
      "outputs": [],
      "source": [
        "# LABORATORIO 2\n",
        "# DATASET QUE ME TOCO: BIG MART SALES\n",
        "# https://www.kaggle.com/datasets/akashdeepkuila/big-mart-sales?select=Train-Set.csv\n",
        "\n",
        "# MIRANDA GUTIERREZ CESAR ALVARO\n",
        "import os\n",
        "import numpy as np\n",
        "from matplotlib import pyplot\n",
        "# Necesario para graficar superficies\n",
        "from mpl_toolkits.mplot3d import Axes3D\n",
        "# llama a matplotlib a embeber graficas dentro de los cuadernillos\n",
        "%matplotlib inline"
      ]
    },
    {
      "cell_type": "code",
      "source": [
        "#importa pandas, es una biblioteca para manipular datos\n",
        "import pandas as pd\n",
        "#encoder para transformar etiquetas categoricas a numericas\n",
        "from sklearn.preprocessing import LabelEncoder\n",
        "#import datetime for working with dates and times.\n",
        "from datetime import datetime"
      ],
      "metadata": {
        "id": "rzVjzh31RqkM"
      },
      "execution_count": 20,
      "outputs": []
    },
    {
      "cell_type": "code",
      "source": [
        "# Carga de dataset\n",
        "# Cargar un archivo CSV utilizando pandas\n",
        "data = pd.read_csv('/content/Train-Set.csv')\n",
        "\n",
        "# Seleccionar las primeras 11 columnas como características (X) y la última columna como etiquetas (y)\n",
        "X = data.iloc[:, :11]\n",
        "y = data.iloc[:, 11]\n",
        "# Calcular el tamaño de las etiquetas (muestra)\n",
        "m = y.size\n",
        "#imprimir el titulo de cada columna\n",
        "print('{:>8s}{:>8s}{:>8s}{:>8s}{:>8s}{:>8s}{:>8s}{:>8s}{:>8s}{:>8s}{:>8s}{:>8s}'.format('x1','x2', 'x3','x4','x5', 'x6','x7','x8', 'x9','x10','x11', 'y'))\n",
        "#imprimir una barra con 100 guiones\n",
        "print('-'*100)\n",
        "# los datos con este formato solo se imprimiran si todos son valores numericos.\n",
        "#for i in range(10):\n",
        " # print('{:8.0f}{:8.0f}{:8.0f}{:8.0f}{:8.0f}{:8.0f}{:8.0f}{:8.0f}{:8.0f}{:8.0f}{:8.0f}{:8.0f}'.format(X[i,0],X[i,1],X[i,2],X[i,3],X[i,4],X[i,5],X[i,6],X[i,7],X[i,8],X[i,9],X[i,10],y[i]))"
      ],
      "metadata": {
        "id": "rYg6r7FwRxUm",
        "colab": {
          "base_uri": "https://localhost:8080/"
        },
        "outputId": "8da7e65c-fdb5-444b-a2de-bbd42bfb49e4"
      },
      "execution_count": 21,
      "outputs": [
        {
          "output_type": "stream",
          "name": "stdout",
          "text": [
            "      x1      x2      x3      x4      x5      x6      x7      x8      x9     x10     x11       y\n",
            "----------------------------------------------------------------------------------------------------\n"
          ]
        }
      ]
    },
    {
      "cell_type": "code",
      "source": [
        "# imprimir tamanios\n",
        "data.shape"
      ],
      "metadata": {
        "colab": {
          "base_uri": "https://localhost:8080/"
        },
        "id": "ijAQpV2LR-Mq",
        "outputId": "08d74412-7349-448c-fa0d-9c252465bc8f"
      },
      "execution_count": 22,
      "outputs": [
        {
          "output_type": "execute_result",
          "data": {
            "text/plain": [
              "(8523, 12)"
            ]
          },
          "metadata": {},
          "execution_count": 22
        }
      ]
    },
    {
      "cell_type": "code",
      "source": [
        "X.shape"
      ],
      "metadata": {
        "colab": {
          "base_uri": "https://localhost:8080/"
        },
        "id": "welZT87BcL-5",
        "outputId": "b282db8b-7850-45bf-8678-69f583a9ea3a"
      },
      "execution_count": 23,
      "outputs": [
        {
          "output_type": "execute_result",
          "data": {
            "text/plain": [
              "(8523, 11)"
            ]
          },
          "metadata": {},
          "execution_count": 23
        }
      ]
    },
    {
      "cell_type": "code",
      "source": [
        "y.shape"
      ],
      "metadata": {
        "colab": {
          "base_uri": "https://localhost:8080/"
        },
        "id": "SMbsnBzecOO5",
        "outputId": "69c152f4-fe33-4536-905c-0b94a65509c3"
      },
      "execution_count": 24,
      "outputs": [
        {
          "output_type": "execute_result",
          "data": {
            "text/plain": [
              "(8523,)"
            ]
          },
          "metadata": {},
          "execution_count": 24
        }
      ]
    },
    {
      "cell_type": "code",
      "source": [
        "print(m)"
      ],
      "metadata": {
        "colab": {
          "base_uri": "https://localhost:8080/"
        },
        "id": "amUMp1HvcQui",
        "outputId": "4cb8fb20-0c52-4dd2-f152-7a27bc1b52fe"
      },
      "execution_count": 25,
      "outputs": [
        {
          "output_type": "stream",
          "name": "stdout",
          "text": [
            "8523\n"
          ]
        }
      ]
    },
    {
      "cell_type": "code",
      "source": [
        "print(data)"
      ],
      "metadata": {
        "colab": {
          "base_uri": "https://localhost:8080/"
        },
        "id": "sba9aNNwc3Qh",
        "outputId": "79d6361c-09e9-40ce-db7b-6347ee45bac0"
      },
      "execution_count": 26,
      "outputs": [
        {
          "output_type": "stream",
          "name": "stdout",
          "text": [
            "     ProductID  Weight FatContent  ProductVisibility            ProductType  \\\n",
            "0        FDA15   9.300    Low Fat           0.016047                  Dairy   \n",
            "1        DRC01   5.920    Regular           0.019278            Soft Drinks   \n",
            "2        FDN15  17.500    Low Fat           0.016760                   Meat   \n",
            "3        FDX07  19.200    Regular           0.000000  Fruits and Vegetables   \n",
            "4        NCD19   8.930    Low Fat           0.000000              Household   \n",
            "...        ...     ...        ...                ...                    ...   \n",
            "8518     FDF22   6.865    Low Fat           0.056783            Snack Foods   \n",
            "8519     FDS36   8.380    Regular           0.046982           Baking Goods   \n",
            "8520     NCJ29  10.600    Low Fat           0.035186     Health and Hygiene   \n",
            "8521     FDN46   7.210    Regular           0.145221            Snack Foods   \n",
            "8522     DRG01  14.800    Low Fat           0.044878            Soft Drinks   \n",
            "\n",
            "           MRP OutletID  EstablishmentYear OutletSize LocationType  \\\n",
            "0     249.8092   OUT049               1999     Medium       Tier 1   \n",
            "1      48.2692   OUT018               2009     Medium       Tier 3   \n",
            "2     141.6180   OUT049               1999     Medium       Tier 1   \n",
            "3     182.0950   OUT010               1998        NaN       Tier 3   \n",
            "4      53.8614   OUT013               1987       High       Tier 3   \n",
            "...        ...      ...                ...        ...          ...   \n",
            "8518  214.5218   OUT013               1987       High       Tier 3   \n",
            "8519  108.1570   OUT045               2002        NaN       Tier 2   \n",
            "8520   85.1224   OUT035               2004      Small       Tier 2   \n",
            "8521  103.1332   OUT018               2009     Medium       Tier 3   \n",
            "8522   75.4670   OUT046               1997      Small       Tier 1   \n",
            "\n",
            "             OutletType  OutletSales  \n",
            "0     Supermarket Type1    3735.1380  \n",
            "1     Supermarket Type2     443.4228  \n",
            "2     Supermarket Type1    2097.2700  \n",
            "3         Grocery Store     732.3800  \n",
            "4     Supermarket Type1     994.7052  \n",
            "...                 ...          ...  \n",
            "8518  Supermarket Type1    2778.3834  \n",
            "8519  Supermarket Type1     549.2850  \n",
            "8520  Supermarket Type1    1193.1136  \n",
            "8521  Supermarket Type2    1845.5976  \n",
            "8522  Supermarket Type1     765.6700  \n",
            "\n",
            "[8523 rows x 12 columns]\n"
          ]
        }
      ]
    },
    {
      "cell_type": "code",
      "source": [
        "data.info()"
      ],
      "metadata": {
        "colab": {
          "base_uri": "https://localhost:8080/"
        },
        "id": "j1ptDXHATtOE",
        "outputId": "e2a93dfe-e19e-46be-9b15-a5844f6ad1c7"
      },
      "execution_count": 27,
      "outputs": [
        {
          "output_type": "stream",
          "name": "stdout",
          "text": [
            "<class 'pandas.core.frame.DataFrame'>\n",
            "RangeIndex: 8523 entries, 0 to 8522\n",
            "Data columns (total 12 columns):\n",
            " #   Column             Non-Null Count  Dtype  \n",
            "---  ------             --------------  -----  \n",
            " 0   ProductID          8523 non-null   object \n",
            " 1   Weight             7060 non-null   float64\n",
            " 2   FatContent         8523 non-null   object \n",
            " 3   ProductVisibility  8523 non-null   float64\n",
            " 4   ProductType        8523 non-null   object \n",
            " 5   MRP                8523 non-null   float64\n",
            " 6   OutletID           8523 non-null   object \n",
            " 7   EstablishmentYear  8523 non-null   int64  \n",
            " 8   OutletSize         6113 non-null   object \n",
            " 9   LocationType       8523 non-null   object \n",
            " 10  OutletType         8523 non-null   object \n",
            " 11  OutletSales        8523 non-null   float64\n",
            "dtypes: float64(4), int64(1), object(7)\n",
            "memory usage: 799.2+ KB\n"
          ]
        }
      ]
    },
    {
      "cell_type": "code",
      "source": [
        "#CONVERTIR VARIABLES CATEGORICAS A ENTEROS (no modificar)\n",
        "#variables categoricas, contiene las listas de las columnas de data que tienen tipo de dato object.\n",
        "columnas_categoricas = data.select_dtypes(include=['object']).columns\n",
        "for columna in columnas_categoricas:\n",
        "  #usa labelencoder para crear objeto llamado le, que permite transformar valores categoricos a enteros.\n",
        "  le = LabelEncoder()\n",
        "  # usa lift_transform del objeto le para ajustar el codificador a los valores de la columna y devolver una serie d enumero enteros\n",
        "  data[columna] = le.fit_transform(data[columna])\n",
        "data.info()"
      ],
      "metadata": {
        "id": "EhKFV0qmVbJt",
        "colab": {
          "base_uri": "https://localhost:8080/"
        },
        "outputId": "be9d2fca-1477-4ede-d4e8-9de8e27131c6"
      },
      "execution_count": 28,
      "outputs": [
        {
          "output_type": "stream",
          "name": "stdout",
          "text": [
            "<class 'pandas.core.frame.DataFrame'>\n",
            "RangeIndex: 8523 entries, 0 to 8522\n",
            "Data columns (total 12 columns):\n",
            " #   Column             Non-Null Count  Dtype  \n",
            "---  ------             --------------  -----  \n",
            " 0   ProductID          8523 non-null   int64  \n",
            " 1   Weight             7060 non-null   float64\n",
            " 2   FatContent         8523 non-null   int64  \n",
            " 3   ProductVisibility  8523 non-null   float64\n",
            " 4   ProductType        8523 non-null   int64  \n",
            " 5   MRP                8523 non-null   float64\n",
            " 6   OutletID           8523 non-null   int64  \n",
            " 7   EstablishmentYear  8523 non-null   int64  \n",
            " 8   OutletSize         8523 non-null   int64  \n",
            " 9   LocationType       8523 non-null   int64  \n",
            " 10  OutletType         8523 non-null   int64  \n",
            " 11  OutletSales        8523 non-null   float64\n",
            "dtypes: float64(4), int64(8)\n",
            "memory usage: 799.2 KB\n"
          ]
        }
      ]
    },
    {
      "cell_type": "code",
      "source": [
        "#RELLENAR DATOS (si modificar)\n",
        "#asignar las columnas incompletas. (modificar solo esto)\n",
        "columnas_especificas = ['Weight']\n",
        "#sacar la media de toda la columna y con ese valor llenar esos datos vacios.\n",
        "media_columnas = data[columnas_especificas].mean()\n",
        "#llenar\n",
        "data[columnas_especificas] = data[columnas_especificas].fillna(media_columnas)\n",
        "data.info()"
      ],
      "metadata": {
        "id": "qjHe80thb1nS",
        "colab": {
          "base_uri": "https://localhost:8080/"
        },
        "outputId": "2aad5853-fccb-4f75-f747-fcd755073f64"
      },
      "execution_count": 29,
      "outputs": [
        {
          "output_type": "stream",
          "name": "stdout",
          "text": [
            "<class 'pandas.core.frame.DataFrame'>\n",
            "RangeIndex: 8523 entries, 0 to 8522\n",
            "Data columns (total 12 columns):\n",
            " #   Column             Non-Null Count  Dtype  \n",
            "---  ------             --------------  -----  \n",
            " 0   ProductID          8523 non-null   int64  \n",
            " 1   Weight             8523 non-null   float64\n",
            " 2   FatContent         8523 non-null   int64  \n",
            " 3   ProductVisibility  8523 non-null   float64\n",
            " 4   ProductType        8523 non-null   int64  \n",
            " 5   MRP                8523 non-null   float64\n",
            " 6   OutletID           8523 non-null   int64  \n",
            " 7   EstablishmentYear  8523 non-null   int64  \n",
            " 8   OutletSize         8523 non-null   int64  \n",
            " 9   LocationType       8523 non-null   int64  \n",
            " 10  OutletType         8523 non-null   int64  \n",
            " 11  OutletSales        8523 non-null   float64\n",
            "dtypes: float64(4), int64(8)\n",
            "memory usage: 799.2 KB\n"
          ]
        }
      ]
    },
    {
      "cell_type": "code",
      "source": [
        "#USAR ESTA TABLA PARA ASIGNAR VALORES AL VECTOR Xs MAS ABAJO\n",
        "print(data)"
      ],
      "metadata": {
        "colab": {
          "base_uri": "https://localhost:8080/"
        },
        "id": "wwGLVXxJ29xf",
        "outputId": "4a338ed3-03ec-49b4-94b6-1c6ad3083700"
      },
      "execution_count": 30,
      "outputs": [
        {
          "output_type": "stream",
          "name": "stdout",
          "text": [
            "      ProductID  Weight  FatContent  ProductVisibility  ProductType       MRP  \\\n",
            "0           156   9.300           1           0.016047            4  249.8092   \n",
            "1             8   5.920           2           0.019278           14   48.2692   \n",
            "2           662  17.500           1           0.016760           10  141.6180   \n",
            "3          1121  19.200           2           0.000000            6  182.0950   \n",
            "4          1297   8.930           1           0.000000            9   53.8614   \n",
            "...         ...     ...         ...                ...          ...       ...   \n",
            "8518        370   6.865           1           0.056783           13  214.5218   \n",
            "8519        897   8.380           2           0.046982            0  108.1570   \n",
            "8520       1357  10.600           1           0.035186            8   85.1224   \n",
            "8521        681   7.210           2           0.145221           13  103.1332   \n",
            "8522         50  14.800           1           0.044878           14   75.4670   \n",
            "\n",
            "      OutletID  EstablishmentYear  OutletSize  LocationType  OutletType  \\\n",
            "0            9               1999           1             0           1   \n",
            "1            3               2009           1             2           2   \n",
            "2            9               1999           1             0           1   \n",
            "3            0               1998           3             2           0   \n",
            "4            1               1987           0             2           1   \n",
            "...        ...                ...         ...           ...         ...   \n",
            "8518         1               1987           0             2           1   \n",
            "8519         7               2002           3             1           1   \n",
            "8520         6               2004           2             1           1   \n",
            "8521         3               2009           1             2           2   \n",
            "8522         8               1997           2             0           1   \n",
            "\n",
            "      OutletSales  \n",
            "0       3735.1380  \n",
            "1        443.4228  \n",
            "2       2097.2700  \n",
            "3        732.3800  \n",
            "4        994.7052  \n",
            "...           ...  \n",
            "8518    2778.3834  \n",
            "8519     549.2850  \n",
            "8520    1193.1136  \n",
            "8521    1845.5976  \n",
            "8522     765.6700  \n",
            "\n",
            "[8523 rows x 12 columns]\n"
          ]
        }
      ]
    },
    {
      "cell_type": "code",
      "source": [
        "#NORMALIZAR PARA PONER EN UN RANGO de 0 a 1 en este caso (no modificar)\n",
        "def normalizarCaracteristicas(X):\n",
        "    X_norm = X.copy()\n",
        "    mu = np.zeros(X.shape[1])\n",
        "    sigma = np.zeros(X.shape[1])\n",
        "\n",
        "    mu = np.mean(X, axis = 0)\n",
        "    sigma = np.std(X, axis = 0)\n",
        "    X_norm = (X - mu) / sigma\n",
        "    return X_norm, mu, sigma"
      ],
      "metadata": {
        "id": "RBTilcOD2xrc"
      },
      "execution_count": 31,
      "outputs": []
    },
    {
      "cell_type": "code",
      "source": [
        "# CALCULAR X_NOM, MEDIA Y DESVIACION ESTANDAR (no modificar)\n",
        "X_norm, mu, sigma = normalizarCaracteristicas(X)\n",
        "print(X)\n",
        "print('Media calculada:', mu)\n",
        "print('Desviación estandar calculada:', sigma)\n",
        "print(X_norm)"
      ],
      "metadata": {
        "colab": {
          "base_uri": "https://localhost:8080/"
        },
        "id": "WKkN5g1j22lK",
        "outputId": "cc848292-f127-42a3-c92c-f1ba769a4411"
      },
      "execution_count": 32,
      "outputs": [
        {
          "output_type": "stream",
          "name": "stdout",
          "text": [
            "     ProductID  Weight FatContent  ProductVisibility            ProductType  \\\n",
            "0        FDA15   9.300    Low Fat           0.016047                  Dairy   \n",
            "1        DRC01   5.920    Regular           0.019278            Soft Drinks   \n",
            "2        FDN15  17.500    Low Fat           0.016760                   Meat   \n",
            "3        FDX07  19.200    Regular           0.000000  Fruits and Vegetables   \n",
            "4        NCD19   8.930    Low Fat           0.000000              Household   \n",
            "...        ...     ...        ...                ...                    ...   \n",
            "8518     FDF22   6.865    Low Fat           0.056783            Snack Foods   \n",
            "8519     FDS36   8.380    Regular           0.046982           Baking Goods   \n",
            "8520     NCJ29  10.600    Low Fat           0.035186     Health and Hygiene   \n",
            "8521     FDN46   7.210    Regular           0.145221            Snack Foods   \n",
            "8522     DRG01  14.800    Low Fat           0.044878            Soft Drinks   \n",
            "\n",
            "           MRP OutletID  EstablishmentYear OutletSize LocationType  \\\n",
            "0     249.8092   OUT049               1999     Medium       Tier 1   \n",
            "1      48.2692   OUT018               2009     Medium       Tier 3   \n",
            "2     141.6180   OUT049               1999     Medium       Tier 1   \n",
            "3     182.0950   OUT010               1998        NaN       Tier 3   \n",
            "4      53.8614   OUT013               1987       High       Tier 3   \n",
            "...        ...      ...                ...        ...          ...   \n",
            "8518  214.5218   OUT013               1987       High       Tier 3   \n",
            "8519  108.1570   OUT045               2002        NaN       Tier 2   \n",
            "8520   85.1224   OUT035               2004      Small       Tier 2   \n",
            "8521  103.1332   OUT018               2009     Medium       Tier 3   \n",
            "8522   75.4670   OUT046               1997      Small       Tier 1   \n",
            "\n",
            "             OutletType  \n",
            "0     Supermarket Type1  \n",
            "1     Supermarket Type2  \n",
            "2     Supermarket Type1  \n",
            "3         Grocery Store  \n",
            "4     Supermarket Type1  \n",
            "...                 ...  \n",
            "8518  Supermarket Type1  \n",
            "8519  Supermarket Type1  \n",
            "8520  Supermarket Type1  \n",
            "8521  Supermarket Type2  \n",
            "8522  Supermarket Type1  \n",
            "\n",
            "[8523 rows x 11 columns]\n",
            "Media calculada: Weight                 12.857645\n",
            "ProductVisibility       0.066132\n",
            "MRP                   140.992782\n",
            "EstablishmentYear    1997.831867\n",
            "dtype: float64\n",
            "Desviación estandar calculada: Weight                4.643128\n",
            "ProductVisibility     0.051595\n",
            "MRP                  62.271413\n",
            "EstablishmentYear     8.371269\n",
            "dtype: float64\n",
            "      EstablishmentYear FatContent LocationType       MRP OutletID OutletSize  \\\n",
            "0              0.139541        NaN          NaN  1.747454      NaN        NaN   \n",
            "1              1.334103        NaN          NaN -1.489023      NaN        NaN   \n",
            "2              0.139541        NaN          NaN  0.010040      NaN        NaN   \n",
            "3              0.020085        NaN          NaN  0.660050      NaN        NaN   \n",
            "4             -1.293934        NaN          NaN -1.399220      NaN        NaN   \n",
            "...                 ...        ...          ...       ...      ...        ...   \n",
            "8518          -1.293934        NaN          NaN  1.180783      NaN        NaN   \n",
            "8519           0.497909        NaN          NaN -0.527301      NaN        NaN   \n",
            "8520           0.736822        NaN          NaN -0.897208      NaN        NaN   \n",
            "8521           1.334103        NaN          NaN -0.607977      NaN        NaN   \n",
            "8522          -0.099372        NaN          NaN -1.052261      NaN        NaN   \n",
            "\n",
            "     OutletType ProductID ProductType  ProductVisibility    Weight  \n",
            "0           NaN       NaN         NaN          -0.970732 -0.766217  \n",
            "1           NaN       NaN         NaN          -0.908111 -1.494175  \n",
            "2           NaN       NaN         NaN          -0.956917  0.999834  \n",
            "3           NaN       NaN         NaN          -1.281758  1.365966  \n",
            "4           NaN       NaN         NaN          -1.281758 -0.845905  \n",
            "...         ...       ...         ...                ...       ...  \n",
            "8518        NaN       NaN         NaN          -0.181193 -1.290648  \n",
            "8519        NaN       NaN         NaN          -0.371154 -0.964360  \n",
            "8520        NaN       NaN         NaN          -0.599784 -0.486234  \n",
            "8521        NaN       NaN         NaN           1.532880 -1.216345  \n",
            "8522        NaN       NaN         NaN          -0.411936  0.418329  \n",
            "\n",
            "[8523 rows x 11 columns]\n"
          ]
        },
        {
          "output_type": "stream",
          "name": "stderr",
          "text": [
            "/usr/local/lib/python3.10/dist-packages/numpy/core/fromnumeric.py:3430: FutureWarning: The default value of numeric_only in DataFrame.mean is deprecated. In a future version, it will default to False. In addition, specifying 'numeric_only=None' is deprecated. Select only valid columns or specify the value of numeric_only to silence this warning.\n",
            "  return mean(axis=axis, dtype=dtype, out=out, **kwargs)\n",
            "/usr/local/lib/python3.10/dist-packages/numpy/core/fromnumeric.py:3571: FutureWarning: The default value of numeric_only in DataFrame.std is deprecated. In a future version, it will default to False. In addition, specifying 'numeric_only=None' is deprecated. Select only valid columns or specify the value of numeric_only to silence this warning.\n",
            "  return std(axis=axis, dtype=dtype, out=out, ddof=ddof, **kwargs)\n"
          ]
        }
      ]
    },
    {
      "cell_type": "code",
      "source": [
        "# AGREGAR X0 A X_NORMALIZADA CON 1s Y TENER UN X_LISTO (no modificar)\n",
        "X_ready = np.concatenate([np.ones((m, 1)), X_norm], axis=1)"
      ],
      "metadata": {
        "id": "qW3Pru-02-qi"
      },
      "execution_count": 33,
      "outputs": []
    },
    {
      "cell_type": "code",
      "source": [
        "# ver que el 1 se ha agregado en cada fila\n",
        "print(X)"
      ],
      "metadata": {
        "colab": {
          "base_uri": "https://localhost:8080/"
        },
        "id": "zceujpBK7KJk",
        "outputId": "458fbc58-49a0-427f-88fd-1a1c0c5d9cbf"
      },
      "execution_count": 34,
      "outputs": [
        {
          "output_type": "stream",
          "name": "stdout",
          "text": [
            "     ProductID  Weight FatContent  ProductVisibility            ProductType  \\\n",
            "0        FDA15   9.300    Low Fat           0.016047                  Dairy   \n",
            "1        DRC01   5.920    Regular           0.019278            Soft Drinks   \n",
            "2        FDN15  17.500    Low Fat           0.016760                   Meat   \n",
            "3        FDX07  19.200    Regular           0.000000  Fruits and Vegetables   \n",
            "4        NCD19   8.930    Low Fat           0.000000              Household   \n",
            "...        ...     ...        ...                ...                    ...   \n",
            "8518     FDF22   6.865    Low Fat           0.056783            Snack Foods   \n",
            "8519     FDS36   8.380    Regular           0.046982           Baking Goods   \n",
            "8520     NCJ29  10.600    Low Fat           0.035186     Health and Hygiene   \n",
            "8521     FDN46   7.210    Regular           0.145221            Snack Foods   \n",
            "8522     DRG01  14.800    Low Fat           0.044878            Soft Drinks   \n",
            "\n",
            "           MRP OutletID  EstablishmentYear OutletSize LocationType  \\\n",
            "0     249.8092   OUT049               1999     Medium       Tier 1   \n",
            "1      48.2692   OUT018               2009     Medium       Tier 3   \n",
            "2     141.6180   OUT049               1999     Medium       Tier 1   \n",
            "3     182.0950   OUT010               1998        NaN       Tier 3   \n",
            "4      53.8614   OUT013               1987       High       Tier 3   \n",
            "...        ...      ...                ...        ...          ...   \n",
            "8518  214.5218   OUT013               1987       High       Tier 3   \n",
            "8519  108.1570   OUT045               2002        NaN       Tier 2   \n",
            "8520   85.1224   OUT035               2004      Small       Tier 2   \n",
            "8521  103.1332   OUT018               2009     Medium       Tier 3   \n",
            "8522   75.4670   OUT046               1997      Small       Tier 1   \n",
            "\n",
            "             OutletType  \n",
            "0     Supermarket Type1  \n",
            "1     Supermarket Type2  \n",
            "2     Supermarket Type1  \n",
            "3         Grocery Store  \n",
            "4     Supermarket Type1  \n",
            "...                 ...  \n",
            "8518  Supermarket Type1  \n",
            "8519  Supermarket Type1  \n",
            "8520  Supermarket Type1  \n",
            "8521  Supermarket Type2  \n",
            "8522  Supermarket Type1  \n",
            "\n",
            "[8523 rows x 11 columns]\n"
          ]
        }
      ]
    },
    {
      "cell_type": "code",
      "source": [
        "print(X_ready)"
      ],
      "metadata": {
        "id": "M-k7ZYAh24_2",
        "colab": {
          "base_uri": "https://localhost:8080/"
        },
        "outputId": "fdfccdde-e103-44e0-e4bc-600d316de773"
      },
      "execution_count": 35,
      "outputs": [
        {
          "output_type": "stream",
          "name": "stdout",
          "text": [
            "[[1.0 0.13954076129513454 nan ... nan -0.9707321742340472\n",
            "  -0.7662174006373941]\n",
            " [1.0 1.334102742530905 nan ... nan -0.9081112260568366\n",
            "  -1.4941749905912012]\n",
            " [1.0 0.13954076129513454 nan ... nan -0.9569173311583046\n",
            "  0.9998335572387054]\n",
            " ...\n",
            " [1.0 0.7368217519130199 nan ... nan -0.5997844864938285\n",
            "  -0.4862337121936224]\n",
            " [1.0 1.334102742530905 nan ... nan 1.5328797570987018 -1.216345022827766]\n",
            " [1.0 -0.09937163495201959 nan ... nan -0.411935906966958\n",
            "  0.4183289735477947]]\n"
          ]
        }
      ]
    },
    {
      "cell_type": "code",
      "source": [
        "# CALCULAR LA 'Y' (no modificar)\n",
        "def calcularCosto(X, y, theta):\n",
        "  m = y.size\n",
        "  J = 0\n",
        "  #la formula de costo, hipotesis\n",
        "  h = np.dot(X, theta)\n",
        "  # print(h)\n",
        "  J = (1/(2 * m)) * np.sum(np.square(np.dot(X, theta) - y))\n",
        "  return J"
      ],
      "metadata": {
        "id": "Svn8JldG3Bwk"
      },
      "execution_count": 36,
      "outputs": []
    },
    {
      "cell_type": "code",
      "source": [
        "#aqui estoy poniendo los valroes para theta.\n",
        "# la cantidad de theta es igual a numero de columnas de dataset original\n",
        "theta=np.array([0.1, 5.0, 0.1, 0.1, 5.0, 0.1, 0.1, 5.0, 0.1,0.1, 5.0, 0.1])\n",
        "JJ = calcularCosto(X_ready, y, theta)\n",
        "# con esso thetas obtenemos un costo.\n",
        "print(f\"con theta:{ theta } se obtiene un costo de: {JJ}\")"
      ],
      "metadata": {
        "colab": {
          "base_uri": "https://localhost:8080/"
        },
        "id": "NtewlMZ6jyIi",
        "outputId": "9214d437-a425-4dc7-f3aa-86d892526aba"
      },
      "execution_count": 37,
      "outputs": [
        {
          "output_type": "stream",
          "name": "stdout",
          "text": [
            "con theta:[0.1 5.  0.1 0.1 5.  0.1 0.1 5.  0.1 0.1 5.  0.1] se obtiene un costo de: 0.0\n"
          ]
        }
      ]
    },
    {
      "cell_type": "code",
      "source": [
        "# FUNCION DESCENSO GRADIENTE 1ER METODO (no modificar)\n",
        "def calcularDescensoGradiente(X, y, theta, alpha, numero_iteraciones):\n",
        "  m = y.shape[0]\n",
        "  theta = theta.copy()\n",
        "  J_historico = []\n",
        "\n",
        "  for i in range(numero_iteraciones):\n",
        "    theta = theta - (alpha / m) * (np.dot(X, theta) - y).dot(X)\n",
        "    J_historico.append(calcularCosto(X, y, theta))\n",
        "\n",
        "  return theta, J_historico"
      ],
      "metadata": {
        "id": "bfCxEYeQ3HAQ"
      },
      "execution_count": 38,
      "outputs": []
    },
    {
      "cell_type": "code",
      "source": [
        "# INICIALIZAR VALORES,\n",
        "# Elige un valor para el parámetro alpha, que es la tasa de aprendizaje del algoritmo del descenso por el gradiente.\n",
        "alpha = 0.0001\n",
        "# Este valor determina el número de veces que se actualizan los parámetros theta en dirección opuesta al gradiente o pendiente de la función de costo o error.\n",
        "num_ite = 1000\n",
        "#inicializa theta y ejecuta el descenso por el gradiente\n",
        "theta = np.zeros(12)"
      ],
      "metadata": {
        "id": "MG1b59EZ-igG"
      },
      "execution_count": 39,
      "outputs": []
    },
    {
      "cell_type": "code",
      "source": [
        "theta, J_historico = calcularDescensoGradiente(X_ready, y, theta, alpha, num_ite)\n",
        "print(f\" 1RA RESPUESTA: LOS VALORES DE THETAS CON DESCENSO POR EL GRADIENTE. SON: { theta }\")\n",
        "print(f\"con un costo de: { J_historico[-1]} \")\n",
        "# Grafica la convergencia del costo\n",
        "# Grafica la convergencia del costo utilizando la librería pyplot. Para hacer esto, utiliza el método plot para dibujar una línea que conecta los puntos formados por el número de iteraciones (np.arange(len(J_history))) y el valor del costo (J_history).\n",
        "# El parámetro lw=2 indica que el grosor de la línea es 2. Luego, utiliza los métodos xlabel e ylabel para asignar etiquetas a los ejes horizontal y vertical,\n",
        "pyplot.plot(np.arange(len(J_historico)), J_historico, lw=2)\n",
        "pyplot.xlabel('Numero de iteraciones')\n",
        "pyplot.ylabel('Ventas de Salida')"
      ],
      "metadata": {
        "colab": {
          "base_uri": "https://localhost:8080/",
          "height": 521
        },
        "id": "Ju7vigfd9aOY",
        "outputId": "082a95b6-5a5f-440c-a537-63698a16a207"
      },
      "execution_count": 40,
      "outputs": [
        {
          "output_type": "stream",
          "name": "stdout",
          "text": [
            " 1RA RESPUESTA: LOS VALORES DE THETAS CON DESCENSO POR EL GRADIENTE. SON: [nan nan nan nan nan nan nan nan nan nan nan nan]\n",
            "con un costo de: 0.0 \n"
          ]
        },
        {
          "output_type": "execute_result",
          "data": {
            "text/plain": [
              "Text(0, 0.5, 'Ventas de Salida')"
            ]
          },
          "metadata": {},
          "execution_count": 40
        },
        {
          "output_type": "display_data",
          "data": {
            "text/plain": [
              "<Figure size 640x480 with 1 Axes>"
            ],
            "image/png": "[encoded data removed]"
          },
          "metadata": {}
        }
      ]
    },
    {
      "cell_type": "code",
      "source": [
        "# DAR VALORES A Xs:\n",
        "# el primer valor de X0 es 1 esto es ctte, los otros valores de Xs se modifica, (aqui no se cuenta la columna de 'Y\")\n",
        "# para asignar valores fijarse los valores de\n",
        "X_array = [1,500,10.00,2,0.01,10,150.00,6,2005,2,2,2]"
      ],
      "metadata": {
        "id": "T3aJOQcGyWnC"
      },
      "execution_count": 41,
      "outputs": []
    },
    {
      "cell_type": "code",
      "source": [
        "# CALCULAR 'Y' POR EL METODO DE DESCENSO POR EL GRADIENTE\n",
        "#ingresar los valores de Xs\n",
        "y_predDesGrad = np.dot(X_array,theta)\n",
        "print('1RA RESPUESTA: El valor predecido es (usando el descenso por el gradiente): {:.4f}'.format(y_predDesGrad))"
      ],
      "metadata": {
        "colab": {
          "base_uri": "https://localhost:8080/"
        },
        "id": "HC2bM23x3Epi",
        "outputId": "b4aef3da-56d1-48fd-db4f-89fbe19d4859"
      },
      "execution_count": 42,
      "outputs": [
        {
          "output_type": "stream",
          "name": "stdout",
          "text": [
            "1RA RESPUESTA: El valor predecido es (usando el descenso por el gradiente): nan\n"
          ]
        }
      ]
    },
    {
      "cell_type": "code",
      "source": [
        "# CALCULO DE THETAS PO METODO DE ECUACION DE LA NORMAL: SEGUNDO METODO (no modificar)\n",
        "def calcularThethaEcuacionNormal(X, y):\n",
        "    theta = np.zeros(X.shape[1])\n",
        "    theta = np.dot(np.dot(np.linalg.inv(np.dot(X.T,X)),X.T),y)\n",
        "    return theta"
      ],
      "metadata": {
        "id": "YWKW8Kxd4BQs"
      },
      "execution_count": 43,
      "outputs": []
    },
    {
      "cell_type": "code",
      "source": [
        "X_ren = np.concatenate([np.ones((m, 1)), X], axis=1)"
      ],
      "metadata": {
        "id": "SOxecsCN4EA-"
      },
      "execution_count": 44,
      "outputs": []
    },
    {
      "cell_type": "code",
      "source": [
        "theta = calcularThethaEcuacionNormal(X_ren, y);\n",
        "print(f\"1DA RESPUESTA: LOS VALORES DE THETAS CON EC DE LA NORMAL SON: { theta }\")"
      ],
      "metadata": {
        "id": "xoEdAz-Y4IIk"
      },
      "execution_count": null,
      "outputs": []
    },
    {
      "cell_type": "code",
      "source": [
        "# CALCULAR 'Y' POR EL METODO DE ECUACION DE LA NORMAL\n",
        "price = np.dot(X_array, theta)\n",
        "print('2DA RESPUESTA: La venta precedida (usando la ecuación de la normal): ${:.0f}'.format(price))"
      ],
      "metadata": {
        "id": "W9wRQjsw4KKb"
      },
      "execution_count": null,
      "outputs": []
    }
  ]
}