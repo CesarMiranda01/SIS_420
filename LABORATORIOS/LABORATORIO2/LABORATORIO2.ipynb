{
  "nbformat": 4,
  "nbformat_minor": 0,
  "metadata": {
    "colab": {
      "provenance": []
    },
    "kernelspec": {
      "name": "python3",
      "display_name": "Python 3"
    },
    "language_info": {
      "name": "python"
    }
  },
  "cells": [
    {
      "cell_type": "code",
      "execution_count": 39,
      "metadata": {
        "id": "I3cTiZZ_2fsD"
      },
      "outputs": [],
      "source": [
        "# LABORATORIO 2\n",
        "# DATASET DE LINO\n",
        "# MIRANDA GUTIERREZ CESAR ALVARO\n",
        "import os\n",
        "import numpy as np\n",
        "from matplotlib import pyplot\n",
        "# Necesario para graficar superficies\n",
        "from mpl_toolkits.mplot3d import Axes3D\n",
        "# llama a matplotlib a embeber graficas dentro de los cuadernillos\n",
        "%matplotlib inline"
      ]
    },
    {
      "cell_type": "code",
      "source": [
        "#importa pandas, es una biblioteca para manipular datos\n",
        "import pandas as pd\n",
        "#encoder para transformar etiquetas categoricas a numericas\n",
        "from sklearn.preprocessing import LabelEncoder\n",
        "#import datetime for working with dates and times.\n",
        "from datetime import datetime"
      ],
      "metadata": {
        "id": "rzVjzh31RqkM"
      },
      "execution_count": 3,
      "outputs": []
    },
    {
      "cell_type": "code",
      "source": [
        "#Carga de dataset\n",
        "#data panda.leer csv o tambien puedes ser txt.\n",
        "data = pd.read_csv('/content/Clean_Dataset.csv')"
      ],
      "metadata": {
        "id": "rYg6r7FwRxUm"
      },
      "execution_count": 4,
      "outputs": []
    },
    {
      "cell_type": "code",
      "source": [
        "print(data)"
      ],
      "metadata": {
        "colab": {
          "base_uri": "https://localhost:8080/"
        },
        "id": "ijAQpV2LR-Mq",
        "outputId": "11e12eb4-2ae5-426d-b92e-f409efc5757c"
      },
      "execution_count": 5,
      "outputs": [
        {
          "output_type": "stream",
          "name": "stdout",
          "text": [
            "           nro    airline   flight source_city departure_time stops  \\\n",
            "0            0   SpiceJet  SG-8709       Delhi        Evening  zero   \n",
            "1            1   SpiceJet  SG-8157       Delhi  Early_Morning  zero   \n",
            "2            2    AirAsia   I5-764       Delhi  Early_Morning  zero   \n",
            "3            3    Vistara   UK-995       Delhi        Morning  zero   \n",
            "4            4    Vistara   UK-963       Delhi        Morning  zero   \n",
            "...        ...        ...      ...         ...            ...   ...   \n",
            "142043  142043    Vistara   UK-708     Kolkata          Night   one   \n",
            "142044  142044    Vistara   UK-738     Kolkata        Evening   one   \n",
            "142045  142045   GO_FIRST   G8-102     Kolkata      Afternoon   one   \n",
            "142046  142046  Air_India   AI-402     Kolkata        Morning   one   \n",
            "142047  142047  Air_India   AI-402     Kolkata        Morning   one   \n",
            "\n",
            "         arrival_time destination_city    class  duration  days_left   price  \n",
            "0               Night           Mumbai  Economy      2.17        1.0  5953.0  \n",
            "1             Morning           Mumbai  Economy      2.33        1.0  5953.0  \n",
            "2       Early_Morning           Mumbai  Economy      2.17        1.0  5956.0  \n",
            "3           Afternoon           Mumbai  Economy      2.25        1.0  5955.0  \n",
            "4             Morning           Mumbai  Economy      2.33        1.0  5955.0  \n",
            "...               ...              ...      ...       ...        ...     ...  \n",
            "142043          Night        Bangalore  Economy     24.08       46.0  8111.0  \n",
            "142044          Night        Bangalore  Economy     25.67       46.0  8111.0  \n",
            "142045          Night        Bangalore  Economy      9.08       46.0  7979.0  \n",
            "142046          Night        Bangalore  Economy      9.67       46.0  7999.0  \n",
            "142047          Night           Bangal      NaN       NaN        NaN     NaN  \n",
            "\n",
            "[142048 rows x 12 columns]\n"
          ]
        }
      ]
    },
    {
      "cell_type": "code",
      "source": [
        "data.info()"
      ],
      "metadata": {
        "colab": {
          "base_uri": "https://localhost:8080/"
        },
        "id": "j1ptDXHATtOE",
        "outputId": "55c12a89-a5d0-44f9-b9b9-953416a3b71a"
      },
      "execution_count": 6,
      "outputs": [
        {
          "output_type": "stream",
          "name": "stdout",
          "text": [
            "<class 'pandas.core.frame.DataFrame'>\n",
            "RangeIndex: 142048 entries, 0 to 142047\n",
            "Data columns (total 12 columns):\n",
            " #   Column            Non-Null Count   Dtype  \n",
            "---  ------            --------------   -----  \n",
            " 0   nro               142048 non-null  int64  \n",
            " 1   airline           142048 non-null  object \n",
            " 2   flight            142048 non-null  object \n",
            " 3   source_city       142048 non-null  object \n",
            " 4   departure_time    142048 non-null  object \n",
            " 5   stops             142048 non-null  object \n",
            " 6   arrival_time      142048 non-null  object \n",
            " 7   destination_city  142048 non-null  object \n",
            " 8   class             142047 non-null  object \n",
            " 9   duration          142047 non-null  float64\n",
            " 10  days_left         142047 non-null  float64\n",
            " 11  price             142047 non-null  float64\n",
            "dtypes: float64(3), int64(1), object(8)\n",
            "memory usage: 13.0+ MB\n"
          ]
        }
      ]
    },
    {
      "cell_type": "code",
      "source": [
        "#variables categoricas, contiene las listas de las columnas de data que tienen tipo de dato object.\n",
        "columnas_categoricas = data.select_dtypes(include=['object']).columns"
      ],
      "metadata": {
        "id": "EhKFV0qmVbJt"
      },
      "execution_count": 7,
      "outputs": []
    },
    {
      "cell_type": "code",
      "source": [
        "for columna in columnas_categoricas:\n",
        "  #usa labelencoder para crear objeto llamado le, que permite transformar valores categoricos a enteros.\n",
        "  le = LabelEncoder()\n",
        "  # usa lift_transform del objeto le para ajustar el codificador a los valores de la columna y devolver una serie d enumero enteros\n",
        "  data[columna] = le.fit_transform(data[columna])"
      ],
      "metadata": {
        "id": "W7TxPJwjVzmk"
      },
      "execution_count": 8,
      "outputs": []
    },
    {
      "cell_type": "code",
      "source": [
        "print(data)"
      ],
      "metadata": {
        "colab": {
          "base_uri": "https://localhost:8080/"
        },
        "id": "nVJhCThsV7bL",
        "outputId": "fa49bfa1-a53e-4b25-f9f6-16c7627a3d07"
      },
      "execution_count": 9,
      "outputs": [
        {
          "output_type": "stream",
          "name": "stdout",
          "text": [
            "           nro  airline  flight  source_city  departure_time  stops  \\\n",
            "0            0        4    1100            1               2      2   \n",
            "1            1        4    1079            1               1      2   \n",
            "2            2        0     939            1               1      2   \n",
            "3            3        5    1232            1               4      2   \n",
            "4            4        5    1222            1               4      2   \n",
            "...        ...      ...     ...          ...             ...    ...   \n",
            "142043  142043        5    1135            2               5      0   \n",
            "142044  142044        5    1140            2               2      0   \n",
            "142045  142045        2     688            2               0      0   \n",
            "142046  142046        1     505            2               4      0   \n",
            "142047  142047        1     505            2               4      0   \n",
            "\n",
            "        arrival_time  destination_city  class  duration  days_left   price  \n",
            "0                  5                 6      0      2.17        1.0  5953.0  \n",
            "1                  4                 6      0      2.33        1.0  5953.0  \n",
            "2                  1                 6      0      2.17        1.0  5956.0  \n",
            "3                  0                 6      0      2.25        1.0  5955.0  \n",
            "4                  4                 6      0      2.33        1.0  5955.0  \n",
            "...              ...               ...    ...       ...        ...     ...  \n",
            "142043             5                 1      0     24.08       46.0  8111.0  \n",
            "142044             5                 1      0     25.67       46.0  8111.0  \n",
            "142045             5                 1      0      9.08       46.0  7979.0  \n",
            "142046             5                 1      0      9.67       46.0  7999.0  \n",
            "142047             5                 0      1       NaN        NaN     NaN  \n",
            "\n",
            "[142048 rows x 12 columns]\n"
          ]
        }
      ]
    },
    {
      "cell_type": "code",
      "source": [
        "data.info()"
      ],
      "metadata": {
        "colab": {
          "base_uri": "https://localhost:8080/"
        },
        "id": "g31Y4vSSV_rP",
        "outputId": "c3cca0ea-1f5a-4f1e-cfec-18db749c0697"
      },
      "execution_count": 10,
      "outputs": [
        {
          "output_type": "stream",
          "name": "stdout",
          "text": [
            "<class 'pandas.core.frame.DataFrame'>\n",
            "RangeIndex: 142048 entries, 0 to 142047\n",
            "Data columns (total 12 columns):\n",
            " #   Column            Non-Null Count   Dtype  \n",
            "---  ------            --------------   -----  \n",
            " 0   nro               142048 non-null  int64  \n",
            " 1   airline           142048 non-null  int64  \n",
            " 2   flight            142048 non-null  int64  \n",
            " 3   source_city       142048 non-null  int64  \n",
            " 4   departure_time    142048 non-null  int64  \n",
            " 5   stops             142048 non-null  int64  \n",
            " 6   arrival_time      142048 non-null  int64  \n",
            " 7   destination_city  142048 non-null  int64  \n",
            " 8   class             142048 non-null  int64  \n",
            " 9   duration          142047 non-null  float64\n",
            " 10  days_left         142047 non-null  float64\n",
            " 11  price             142047 non-null  float64\n",
            "dtypes: float64(3), int64(9)\n",
            "memory usage: 13.0 MB\n"
          ]
        }
      ]
    },
    {
      "cell_type": "code",
      "source": [
        "# Leer datos delimiter is the separation beetwen columns\n",
        "#leer lod datos desde columna 0 hasta antes de columna 2 y para 'y' desde 0,1,2\n",
        "X = data.iloc[:, :11]\n",
        "#la fila 12 en este caso seria 'y'\n",
        "y = data.iloc[:, 11]\n",
        "m = y.size\n"
      ],
      "metadata": {
        "id": "2XcE91Yd2nF-"
      },
      "execution_count": 11,
      "outputs": []
    },
    {
      "cell_type": "code",
      "source": [
        "print(X)\n",
        "print('-'*26)\n",
        "print(y)"
      ],
      "metadata": {
        "colab": {
          "base_uri": "https://localhost:8080/"
        },
        "id": "LuaaH53FeywT",
        "outputId": "a29fe9ee-d7bb-4a1a-ff2f-2442527432f5"
      },
      "execution_count": 34,
      "outputs": [
        {
          "output_type": "stream",
          "name": "stdout",
          "text": [
            "           nro  airline  flight  source_city  departure_time  stops  \\\n",
            "0            0        4    1100            1               2      2   \n",
            "1            1        4    1079            1               1      2   \n",
            "2            2        0     939            1               1      2   \n",
            "3            3        5    1232            1               4      2   \n",
            "4            4        5    1222            1               4      2   \n",
            "...        ...      ...     ...          ...             ...    ...   \n",
            "142043  142043        5    1135            2               5      0   \n",
            "142044  142044        5    1140            2               2      0   \n",
            "142045  142045        2     688            2               0      0   \n",
            "142046  142046        1     505            2               4      0   \n",
            "142047  142047        1     505            2               4      0   \n",
            "\n",
            "        arrival_time  destination_city  class  duration  days_left  \n",
            "0                  5                 6      0      2.17        1.0  \n",
            "1                  4                 6      0      2.33        1.0  \n",
            "2                  1                 6      0      2.17        1.0  \n",
            "3                  0                 6      0      2.25        1.0  \n",
            "4                  4                 6      0      2.33        1.0  \n",
            "...              ...               ...    ...       ...        ...  \n",
            "142043             5                 1      0     24.08       46.0  \n",
            "142044             5                 1      0     25.67       46.0  \n",
            "142045             5                 1      0      9.08       46.0  \n",
            "142046             5                 1      0      9.67       46.0  \n",
            "142047             5                 0      1       NaN        NaN  \n",
            "\n",
            "[142048 rows x 11 columns]\n",
            "--------------------------\n",
            "0         5953.0\n",
            "1         5953.0\n",
            "2         5956.0\n",
            "3         5955.0\n",
            "4         5955.0\n",
            "           ...  \n",
            "142043    8111.0\n",
            "142044    8111.0\n",
            "142045    7979.0\n",
            "142046    7999.0\n",
            "142047       NaN\n",
            "Name: price, Length: 142048, dtype: float64\n"
          ]
        }
      ]
    },
    {
      "cell_type": "code",
      "source": [
        "X.shape"
      ],
      "metadata": {
        "colab": {
          "base_uri": "https://localhost:8080/"
        },
        "id": "Fntuwlufe-4S",
        "outputId": "0146dd2c-89c1-4100-d2c2-6a9df14058e5"
      },
      "execution_count": 35,
      "outputs": [
        {
          "output_type": "execute_result",
          "data": {
            "text/plain": [
              "(142048, 11)"
            ]
          },
          "metadata": {},
          "execution_count": 35
        }
      ]
    },
    {
      "cell_type": "code",
      "source": [
        "def normalizarCaracteristicas(X):\n",
        "    X_norm = X.copy()\n",
        "    mu = np.zeros(X.shape[1])\n",
        "    sigma = np.zeros(X.shape[1])\n",
        "\n",
        "    mu = np.mean(X, axis = 0)\n",
        "    sigma = np.std(X, axis = 0)\n",
        "    X_norm = (X - mu) / sigma\n",
        "\n",
        "    return X_norm, mu, sigma"
      ],
      "metadata": {
        "id": "RBTilcOD2xrc"
      },
      "execution_count": 14,
      "outputs": []
    },
    {
      "cell_type": "code",
      "source": [
        "# llama featureNormalize con los datos cargados\n",
        "X_norm, mu, sigma = normalizarCaracteristicas(X)\n",
        "\n",
        "print(X)\n",
        "print('Media calculada:', mu)\n",
        "print('Desviación estandar calculada:', sigma)\n",
        "print(X_norm)"
      ],
      "metadata": {
        "colab": {
          "base_uri": "https://localhost:8080/"
        },
        "id": "WKkN5g1j22lK",
        "outputId": "ac427b8c-1dc7-4f36-8523-5da83c139e3c"
      },
      "execution_count": 15,
      "outputs": [
        {
          "output_type": "stream",
          "name": "stdout",
          "text": [
            "           nro  airline  flight  source_city  departure_time  stops  \\\n",
            "0            0        4    1100            1               2      2   \n",
            "1            1        4    1079            1               1      2   \n",
            "2            2        0     939            1               1      2   \n",
            "3            3        5    1232            1               4      2   \n",
            "4            4        5    1222            1               4      2   \n",
            "...        ...      ...     ...          ...             ...    ...   \n",
            "142043  142043        5    1135            2               5      0   \n",
            "142044  142044        5    1140            2               2      0   \n",
            "142045  142045        2     688            2               0      0   \n",
            "142046  142046        1     505            2               4      0   \n",
            "142047  142047        1     505            2               4      0   \n",
            "\n",
            "        arrival_time  destination_city  class  duration  days_left  \n",
            "0                  5                 6      0      2.17        1.0  \n",
            "1                  4                 6      0      2.33        1.0  \n",
            "2                  1                 6      0      2.17        1.0  \n",
            "3                  0                 6      0      2.25        1.0  \n",
            "4                  4                 6      0      2.33        1.0  \n",
            "...              ...               ...    ...       ...        ...  \n",
            "142043             5                 1      0     24.08       46.0  \n",
            "142044             5                 1      0     25.67       46.0  \n",
            "142045             5                 1      0      9.08       46.0  \n",
            "142046             5                 1      0      9.67       46.0  \n",
            "142047             5                 0      1       NaN        NaN  \n",
            "\n",
            "[142048 rows x 11 columns]\n",
            "Media calculada: nro                 71023.500000\n",
            "airline                 2.814746\n",
            "flight                784.297385\n",
            "source_city             1.484477\n",
            "departure_time          2.277533\n",
            "stops                   0.348523\n",
            "arrival_time            3.026723\n",
            "destination_city        3.559388\n",
            "class                   0.000007\n",
            "duration               11.324429\n",
            "days_left              25.980330\n",
            "dtype: float64\n",
            "Desviación estandar calculada: nro                 41005.725518\n",
            "airline                 1.754010\n",
            "flight                349.731960\n",
            "source_city             1.152859\n",
            "departure_time          1.705951\n",
            "stops                   0.719760\n",
            "arrival_time            1.756546\n",
            "destination_city        1.746894\n",
            "class                   0.002653\n",
            "duration                7.141086\n",
            "days_left              13.550965\n",
            "dtype: float64\n",
            "             nro   airline    flight  source_city  departure_time     stops  \\\n",
            "0      -1.732039  0.675740  0.902699    -0.420240       -0.162685  2.294482   \n",
            "1      -1.732014  0.675740  0.842653    -0.420240       -0.748869  2.294482   \n",
            "2      -1.731990 -1.604749  0.442346    -0.420240       -0.748869  2.294482   \n",
            "3      -1.731965  1.245862  1.280131    -0.420240        1.009681  2.294482   \n",
            "4      -1.731941  1.245862  1.251537    -0.420240        1.009681  2.294482   \n",
            "...          ...       ...       ...          ...             ...       ...   \n",
            "142043  1.731941  1.245862  1.002775     0.447169        1.595865 -0.484221   \n",
            "142044  1.731965  1.245862  1.017072     0.447169       -0.162685 -0.484221   \n",
            "142045  1.731990 -0.464505 -0.275346     0.447169       -1.335052 -0.484221   \n",
            "142046  1.732014 -1.034627 -0.798604     0.447169        1.009681 -0.484221   \n",
            "142047  1.732039 -1.034627 -0.798604     0.447169        1.009681 -0.484221   \n",
            "\n",
            "        arrival_time  destination_city       class  duration  days_left  \n",
            "0           1.123385          1.397115   -0.002653 -1.281938  -1.843436  \n",
            "1           0.554085          1.397115   -0.002653 -1.259532  -1.843436  \n",
            "2          -1.153812          1.397115   -0.002653 -1.281938  -1.843436  \n",
            "3          -1.723111          1.397115   -0.002653 -1.270735  -1.843436  \n",
            "4           0.554085          1.397115   -0.002653 -1.259532  -1.843436  \n",
            "...              ...               ...         ...       ...        ...  \n",
            "142043      1.123385         -1.465108   -0.002653  1.786223   1.477361  \n",
            "142044      1.123385         -1.465108   -0.002653  2.008878   1.477361  \n",
            "142045      1.123385         -1.465108   -0.002653 -0.314298   1.477361  \n",
            "142046      1.123385         -1.465108   -0.002653 -0.231677   1.477361  \n",
            "142047      1.123385         -2.037553  376.891231       NaN        NaN  \n",
            "\n",
            "[142048 rows x 11 columns]\n"
          ]
        }
      ]
    },
    {
      "cell_type": "code",
      "source": [
        "def graficarDatos(x, y, xlabel, ylabel):\n",
        "  fig = pyplot.figure()\n",
        "  pyplot.plot(x, y, 'ro')\n",
        "  pyplot.xlabel(xlabel)\n",
        "  pyplot.ylabel(ylabel)"
      ],
      "metadata": {
        "id": "M-k7ZYAh24_2"
      },
      "execution_count": 16,
      "outputs": []
    },
    {
      "cell_type": "code",
      "source": [
        "''' xlabel1 = \"superfice terreno\"\n",
        "xlabel2 = \"Calidad de la tierra\"\n",
        "ylabel1 = \"Costo terreno\"\n",
        "graficarDatos(X_norm[:, 0], y, xlabel1, ylabel1)\n",
        "graficarDatos(X_norm[:, 1], y, xlabel2, ylabel1)\n",
        "graficarDatos(X_norm[:, 0], X_norm[:, 1], xlabel1, xlabel2) '''"
      ],
      "metadata": {
        "colab": {
          "base_uri": "https://localhost:8080/",
          "height": 88
        },
        "id": "9lQ9a6NX28IY",
        "outputId": "daeed6a5-b04e-45ea-e1ee-8292b967cdef"
      },
      "execution_count": 36,
      "outputs": [
        {
          "output_type": "execute_result",
          "data": {
            "text/plain": [
              "' xlabel1 = \"superfice terreno\"\\nxlabel2 = \"Calidad de la tierra\"\\nylabel1 = \"Costo terreno\"\\ngraficarDatos(X_norm[:, 0], y, xlabel1, ylabel1)\\ngraficarDatos(X_norm[:, 1], y, xlabel2, ylabel1)\\ngraficarDatos(X_norm[:, 0], X_norm[:, 1], xlabel1, xlabel2) '"
            ],
            "application/vnd.google.colaboratory.intrinsic+json": {
              "type": "string"
            }
          },
          "metadata": {},
          "execution_count": 36
        }
      ]
    },
    {
      "cell_type": "code",
      "source": [
        "# No olvidarse agregar unos a la matriz de x\n",
        "#munos = np.ones([m, 1]).unsqueese\n",
        "#print(munos.shape)\n",
        "#X = np.stack([np.ones(m), X], axis=1)\n",
        "#X = np.stack([X, munos], axis=1)\n",
        "X_ready = np.concatenate([np.ones((m, 1)), X_norm], axis=1)\n",
        "# X = np.insert(X, 0, 1, axis=1)\n",
        "# X.shape"
      ],
      "metadata": {
        "id": "qW3Pru-02-qi"
      },
      "execution_count": 17,
      "outputs": []
    },
    {
      "cell_type": "code",
      "source": [
        "print(X_ready)"
      ],
      "metadata": {
        "colab": {
          "base_uri": "https://localhost:8080/"
        },
        "id": "jTahCuMAY-Ph",
        "outputId": "b7bafffe-c0a3-4c22-9e64-7513748a60ec"
      },
      "execution_count": 18,
      "outputs": [
        {
          "output_type": "stream",
          "name": "stdout",
          "text": [
            "[[ 1.00000000e+00 -1.73203861e+00  6.75739669e-01 ... -2.65328540e-03\n",
            "  -1.28193789e+00 -1.84343554e+00]\n",
            " [ 1.00000000e+00 -1.73201423e+00  6.75739669e-01 ... -2.65328540e-03\n",
            "  -1.25953234e+00 -1.84343554e+00]\n",
            " [ 1.00000000e+00 -1.73198984e+00 -1.60474876e+00 ... -2.65328540e-03\n",
            "  -1.28193789e+00 -1.84343554e+00]\n",
            " ...\n",
            " [ 1.00000000e+00  1.73198984e+00 -4.64504547e-01 ... -2.65328540e-03\n",
            "  -3.14297950e-01  1.47736118e+00]\n",
            " [ 1.00000000e+00  1.73201423e+00 -1.03462666e+00 ... -2.65328540e-03\n",
            "  -2.31677463e-01  1.47736118e+00]\n",
            " [ 1.00000000e+00  1.73203861e+00 -1.03462666e+00 ...  3.76891231e+02\n",
            "              nan             nan]]\n"
          ]
        }
      ]
    },
    {
      "cell_type": "code",
      "source": [
        "def calcularCosto(X_ready, y, theta):\n",
        "  m = y.size\n",
        "  J = 0\n",
        "  #la formula de costo, hipotesis\n",
        "  h = np.dot(X, theta)\n",
        "  # print(h)\n",
        "  J = (1/(2 * m)) * np.sum(np.square(np.dot(X, theta) - y))\n",
        "  return J"
      ],
      "metadata": {
        "id": "Svn8JldG3Bwk"
      },
      "execution_count": 19,
      "outputs": []
    },
    {
      "cell_type": "code",
      "source": [
        "print(data)"
      ],
      "metadata": {
        "colab": {
          "base_uri": "https://localhost:8080/"
        },
        "id": "bWVVV4cYa00K",
        "outputId": "d31ca237-ad13-4c5f-c51b-b4d15d825e3b"
      },
      "execution_count": 21,
      "outputs": [
        {
          "output_type": "stream",
          "name": "stdout",
          "text": [
            "           nro  airline  flight  source_city  departure_time  stops  \\\n",
            "0            0        4    1100            1               2      2   \n",
            "1            1        4    1079            1               1      2   \n",
            "2            2        0     939            1               1      2   \n",
            "3            3        5    1232            1               4      2   \n",
            "4            4        5    1222            1               4      2   \n",
            "...        ...      ...     ...          ...             ...    ...   \n",
            "142043  142043        5    1135            2               5      0   \n",
            "142044  142044        5    1140            2               2      0   \n",
            "142045  142045        2     688            2               0      0   \n",
            "142046  142046        1     505            2               4      0   \n",
            "142047  142047        1     505            2               4      0   \n",
            "\n",
            "        arrival_time  destination_city  class  duration  days_left   price  \n",
            "0                  5                 6      0      2.17        1.0  5953.0  \n",
            "1                  4                 6      0      2.33        1.0  5953.0  \n",
            "2                  1                 6      0      2.17        1.0  5956.0  \n",
            "3                  0                 6      0      2.25        1.0  5955.0  \n",
            "4                  4                 6      0      2.33        1.0  5955.0  \n",
            "...              ...               ...    ...       ...        ...     ...  \n",
            "142043             5                 1      0     24.08       46.0  8111.0  \n",
            "142044             5                 1      0     25.67       46.0  8111.0  \n",
            "142045             5                 1      0      9.08       46.0  7979.0  \n",
            "142046             5                 1      0      9.67       46.0  7999.0  \n",
            "142047             5                 0      1       NaN        NaN     NaN  \n",
            "\n",
            "[142048 rows x 12 columns]\n"
          ]
        }
      ]
    },
    {
      "cell_type": "code",
      "source": [
        "#RELLENAR DATOS\n",
        "#asignar las columnas incompletas.\n",
        "columnas_especificas = ['duration', 'days_left', 'price']\n",
        "#sacar la media de toda la columna y con ese valor llenar esos datos vacios.\n",
        "media_columnas = data[columnas_especificas].mean()\n",
        "#llenar\n",
        "data[columnas_especificas] = data[columnas_especificas].fillna(media_columnas)"
      ],
      "metadata": {
        "id": "qjHe80thb1nS"
      },
      "execution_count": 22,
      "outputs": []
    },
    {
      "cell_type": "code",
      "source": [
        "data.info()"
      ],
      "metadata": {
        "colab": {
          "base_uri": "https://localhost:8080/"
        },
        "id": "iEsheU7ncG33",
        "outputId": "5495a433-8da4-4cc0-e917-1b987f6808cc"
      },
      "execution_count": 23,
      "outputs": [
        {
          "output_type": "stream",
          "name": "stdout",
          "text": [
            "<class 'pandas.core.frame.DataFrame'>\n",
            "RangeIndex: 142048 entries, 0 to 142047\n",
            "Data columns (total 12 columns):\n",
            " #   Column            Non-Null Count   Dtype  \n",
            "---  ------            --------------   -----  \n",
            " 0   nro               142048 non-null  int64  \n",
            " 1   airline           142048 non-null  int64  \n",
            " 2   flight            142048 non-null  int64  \n",
            " 3   source_city       142048 non-null  int64  \n",
            " 4   departure_time    142048 non-null  int64  \n",
            " 5   stops             142048 non-null  int64  \n",
            " 6   arrival_time      142048 non-null  int64  \n",
            " 7   destination_city  142048 non-null  int64  \n",
            " 8   class             142048 non-null  int64  \n",
            " 9   duration          142048 non-null  float64\n",
            " 10  days_left         142048 non-null  float64\n",
            " 11  price             142048 non-null  float64\n",
            "dtypes: float64(3), int64(9)\n",
            "memory usage: 13.0 MB\n"
          ]
        }
      ]
    },
    {
      "cell_type": "code",
      "source": [
        "theta = np.zeros(13)\n",
        "theta=np.array([1, 1, 3, 1000, 1, 2, 2, 4, 6, 0.00, 10.00, 6000.00])\n",
        "JJ = calcularCosto(X_ready, y, theta)\n",
        "print(f\"con theta:{ theta } se obtiene un costo de: {JJ}\")"
      ],
      "metadata": {
        "colab": {
          "base_uri": "https://localhost:8080/",
          "height": 303
        },
        "id": "HC2bM23x3Epi",
        "outputId": "7bf6a296-2bbf-4763-fa45-dc598e78b2f3"
      },
      "execution_count": 38,
      "outputs": [
        {
          "output_type": "error",
          "ename": "ValueError",
          "evalue": "ignored",
          "traceback": [
            "\u001b[0;31m---------------------------------------------------------------------------\u001b[0m",
            "\u001b[0;31mValueError\u001b[0m                                Traceback (most recent call last)",
            "\u001b[0;32m<ipython-input-38-4553a7c16052>\u001b[0m in \u001b[0;36m<cell line: 3>\u001b[0;34m()\u001b[0m\n\u001b[1;32m      1\u001b[0m \u001b[0mtheta\u001b[0m \u001b[0;34m=\u001b[0m \u001b[0mnp\u001b[0m\u001b[0;34m.\u001b[0m\u001b[0mzeros\u001b[0m\u001b[0;34m(\u001b[0m\u001b[0;36m13\u001b[0m\u001b[0;34m)\u001b[0m\u001b[0;34m\u001b[0m\u001b[0;34m\u001b[0m\u001b[0m\n\u001b[1;32m      2\u001b[0m \u001b[0mtheta\u001b[0m\u001b[0;34m=\u001b[0m\u001b[0mnp\u001b[0m\u001b[0;34m.\u001b[0m\u001b[0marray\u001b[0m\u001b[0;34m(\u001b[0m\u001b[0;34m[\u001b[0m\u001b[0;36m1\u001b[0m\u001b[0;34m,\u001b[0m \u001b[0;36m1\u001b[0m\u001b[0;34m,\u001b[0m \u001b[0;36m3\u001b[0m\u001b[0;34m,\u001b[0m \u001b[0;36m1000\u001b[0m\u001b[0;34m,\u001b[0m \u001b[0;36m1\u001b[0m\u001b[0;34m,\u001b[0m \u001b[0;36m2\u001b[0m\u001b[0;34m,\u001b[0m \u001b[0;36m2\u001b[0m\u001b[0;34m,\u001b[0m \u001b[0;36m4\u001b[0m\u001b[0;34m,\u001b[0m \u001b[0;36m6\u001b[0m\u001b[0;34m,\u001b[0m \u001b[0;36m0.00\u001b[0m\u001b[0;34m,\u001b[0m \u001b[0;36m10.00\u001b[0m\u001b[0;34m,\u001b[0m \u001b[0;36m6000.00\u001b[0m\u001b[0;34m]\u001b[0m\u001b[0;34m)\u001b[0m\u001b[0;34m\u001b[0m\u001b[0;34m\u001b[0m\u001b[0m\n\u001b[0;32m----> 3\u001b[0;31m \u001b[0mJJ\u001b[0m \u001b[0;34m=\u001b[0m \u001b[0mcalcularCosto\u001b[0m\u001b[0;34m(\u001b[0m\u001b[0mX_ready\u001b[0m\u001b[0;34m,\u001b[0m \u001b[0my\u001b[0m\u001b[0;34m,\u001b[0m \u001b[0mtheta\u001b[0m\u001b[0;34m)\u001b[0m\u001b[0;34m\u001b[0m\u001b[0;34m\u001b[0m\u001b[0m\n\u001b[0m\u001b[1;32m      4\u001b[0m \u001b[0mprint\u001b[0m\u001b[0;34m(\u001b[0m\u001b[0;34mf\"con theta:{ theta } se obtiene un costo de: {JJ}\"\u001b[0m\u001b[0;34m)\u001b[0m\u001b[0;34m\u001b[0m\u001b[0;34m\u001b[0m\u001b[0m\n",
            "\u001b[0;32m<ipython-input-19-4c6d6c95024a>\u001b[0m in \u001b[0;36mcalcularCosto\u001b[0;34m(X_ready, y, theta)\u001b[0m\n\u001b[1;32m      3\u001b[0m   \u001b[0mJ\u001b[0m \u001b[0;34m=\u001b[0m \u001b[0;36m0\u001b[0m\u001b[0;34m\u001b[0m\u001b[0;34m\u001b[0m\u001b[0m\n\u001b[1;32m      4\u001b[0m   \u001b[0;31m#la formula de costo, hipotesis\u001b[0m\u001b[0;34m\u001b[0m\u001b[0;34m\u001b[0m\u001b[0m\n\u001b[0;32m----> 5\u001b[0;31m   \u001b[0mh\u001b[0m \u001b[0;34m=\u001b[0m \u001b[0mnp\u001b[0m\u001b[0;34m.\u001b[0m\u001b[0mdot\u001b[0m\u001b[0;34m(\u001b[0m\u001b[0mX\u001b[0m\u001b[0;34m,\u001b[0m \u001b[0mtheta\u001b[0m\u001b[0;34m)\u001b[0m\u001b[0;34m\u001b[0m\u001b[0;34m\u001b[0m\u001b[0m\n\u001b[0m\u001b[1;32m      6\u001b[0m   \u001b[0;31m# print(h)\u001b[0m\u001b[0;34m\u001b[0m\u001b[0;34m\u001b[0m\u001b[0m\n\u001b[1;32m      7\u001b[0m   \u001b[0mJ\u001b[0m \u001b[0;34m=\u001b[0m \u001b[0;34m(\u001b[0m\u001b[0;36m1\u001b[0m\u001b[0;34m/\u001b[0m\u001b[0;34m(\u001b[0m\u001b[0;36m2\u001b[0m \u001b[0;34m*\u001b[0m \u001b[0mm\u001b[0m\u001b[0;34m)\u001b[0m\u001b[0;34m)\u001b[0m \u001b[0;34m*\u001b[0m \u001b[0mnp\u001b[0m\u001b[0;34m.\u001b[0m\u001b[0msum\u001b[0m\u001b[0;34m(\u001b[0m\u001b[0mnp\u001b[0m\u001b[0;34m.\u001b[0m\u001b[0msquare\u001b[0m\u001b[0;34m(\u001b[0m\u001b[0mnp\u001b[0m\u001b[0;34m.\u001b[0m\u001b[0mdot\u001b[0m\u001b[0;34m(\u001b[0m\u001b[0mX\u001b[0m\u001b[0;34m,\u001b[0m \u001b[0mtheta\u001b[0m\u001b[0;34m)\u001b[0m \u001b[0;34m-\u001b[0m \u001b[0my\u001b[0m\u001b[0;34m)\u001b[0m\u001b[0;34m)\u001b[0m\u001b[0;34m\u001b[0m\u001b[0;34m\u001b[0m\u001b[0m\n",
            "\u001b[0;32m/usr/local/lib/python3.10/dist-packages/numpy/core/overrides.py\u001b[0m in \u001b[0;36mdot\u001b[0;34m(*args, **kwargs)\u001b[0m\n",
            "\u001b[0;31mValueError\u001b[0m: shapes (142048,11) and (12,) not aligned: 11 (dim 1) != 12 (dim 0)"
          ]
        }
      ]
    },
    {
      "cell_type": "code",
      "source": [
        "def calcularDescensoGradiente(X, y, theta, alpha, numero_iteraciones):\n",
        "  m = y.shape[0]\n",
        "  theta = theta.copy()\n",
        "  J_historico = []\n",
        "\n",
        "  for i in range(numero_iteraciones):\n",
        "    theta = theta - (alpha / m) * (np.dot(X, theta) - y).dot(X)\n",
        "    J_historico.append(calcularCosto(X, y, theta))\n",
        "\n",
        "  return theta, J_historico"
      ],
      "metadata": {
        "id": "bfCxEYeQ3HAQ"
      },
      "execution_count": 31,
      "outputs": []
    },
    {
      "cell_type": "code",
      "source": [
        "#inicializar las variables\n",
        "\n",
        "theta = np.zeros(3)\n",
        "#JUGAR CON ESTOS VALORES\n",
        "num_ite = 100000\n",
        "alpha = 0.0001\n",
        "\n",
        "theta, J_historico = calcularDescensoGradiente(X_ready, y, theta, alpha, num_ite)\n",
        "print(f\"los valores de theta calculados son: { theta }\")\n",
        "print(f\"con un costo de: { J_historico[-1]} \")\n",
        "\n",
        "# Grafica la convergencia del costo\n",
        "pyplot.plot(np.arange(len(J_historico)), J_historico, lw=2)\n",
        "pyplot.xlabel('Numero de iteraciones')\n",
        "pyplot.ylabel('Costo J')"
      ],
      "metadata": {
        "colab": {
          "base_uri": "https://localhost:8080/",
          "height": 517
        },
        "id": "tKhptREI32jB",
        "outputId": "193fa0c1-61de-4076-e03d-c2b163960aeb"
      },
      "execution_count": null,
      "outputs": [
        {
          "output_type": "stream",
          "name": "stdout",
          "text": [
            "los valores de theta calculados son: [340397.21258957 108735.84407295  -5866.41971213]\n",
            "con un costo de: 2043503206.6600745 \n"
          ]
        },
        {
          "output_type": "execute_result",
          "data": {
            "text/plain": [
              "Text(0, 0.5, 'Costo J')"
            ]
          },
          "metadata": {},
          "execution_count": 12
        },
        {
          "output_type": "display_data",
          "data": {
            "text/plain": [
              "<Figure size 640x480 with 1 Axes>"
            ],
            "image/png": "[encoded data removed]"
          },
          "metadata": {}
        }
      ]
    },
    {
      "cell_type": "code",
      "source": [
        "#graficarDatos(X[:, 1], y, xlabel1, ylabel1)\n",
        "# graficarDatos(X[:, 2], y, xlabel2, ylabel1)\n",
        "graficarDatos(X_ready[:, 1], X_ready[:, 2], xlabel1, xlabel2)\n",
        "\n",
        "pyplot.plot(X_ready[:, 1], np.dot(X_ready, theta), '-')\n",
        "\n",
        "pyplot.legend(['Datos de entrenamiento', 'regresion lineal'])"
      ],
      "metadata": {
        "colab": {
          "base_uri": "https://localhost:8080/",
          "height": 471
        },
        "id": "bkj5_CAg35CX",
        "outputId": "ded346d8-6e75-47cf-e5e1-ddd26e9ce126"
      },
      "execution_count": null,
      "outputs": [
        {
          "output_type": "execute_result",
          "data": {
            "text/plain": [
              "<matplotlib.legend.Legend at 0x7c7ff8d62cb0>"
            ]
          },
          "metadata": {},
          "execution_count": 13
        },
        {
          "output_type": "display_data",
          "data": {
            "text/plain": [
              "<Figure size 640x480 with 1 Axes>"
            ],
            "image/png": "[encoded data removed]"
          },
          "metadata": {}
        }
      ]
    },
    {
      "cell_type": "code",
      "source": [
        "# 2300,4,449900\n",
        "y_pred = np.dot([1, 2305, 4], theta)\n",
        "print(y_pred)"
      ],
      "metadata": {
        "colab": {
          "base_uri": "https://localhost:8080/"
        },
        "id": "A-_r26M338AT",
        "outputId": "e60b20b4-1b1b-4aff-a068-68ed16d8b085"
      },
      "execution_count": null,
      "outputs": [
        {
          "output_type": "stream",
          "name": "stdout",
          "text": [
            "250953052.1218971\n"
          ]
        }
      ]
    },
    {
      "cell_type": "code",
      "source": [
        "#Utilizando la ecuacion de la norma"
      ],
      "metadata": {
        "id": "I52OugPo3_O0"
      },
      "execution_count": null,
      "outputs": []
    },
    {
      "cell_type": "code",
      "source": [
        "def calcularThethaEcuacionNormal(X, y):\n",
        "    theta = np.zeros(X.shape[1])\n",
        "    theta = np.dot(np.dot(np.linalg.inv(np.dot(X.T,X)),X.T),y)\n",
        "    return theta"
      ],
      "metadata": {
        "id": "YWKW8Kxd4BQs"
      },
      "execution_count": null,
      "outputs": []
    },
    {
      "cell_type": "code",
      "source": [
        "X_ren = np.concatenate([np.ones((m, 1)), X], axis=1)"
      ],
      "metadata": {
        "id": "SOxecsCN4EA-"
      },
      "execution_count": null,
      "outputs": []
    },
    {
      "cell_type": "code",
      "source": [
        "theta = calcularThethaEcuacionNormal(X_ren, y);\n",
        "print(f\"los valores de theta calculados son: { theta }\")"
      ],
      "metadata": {
        "colab": {
          "base_uri": "https://localhost:8080/"
        },
        "id": "xoEdAz-Y4IIk",
        "outputId": "8b43b3f8-a1bd-47cc-a8d5-a0f1e7799066"
      },
      "execution_count": null,
      "outputs": [
        {
          "output_type": "stream",
          "name": "stdout",
          "text": [
            "los valores de theta calculados son: [89597.9095428    139.21067402 -8738.01911233]\n"
          ]
        }
      ]
    },
    {
      "cell_type": "code",
      "source": [
        "X_array = [1, 2305, 4]\n",
        "price = np.dot(X_array, theta)\n",
        "\n",
        "print('Precio predecido para una cada de superficie de 1650 sq-ft y 3 dormitorios (usando la ecuación de la normal): ${:.0f}'.format(price))"
      ],
      "metadata": {
        "colab": {
          "base_uri": "https://localhost:8080/"
        },
        "id": "W9wRQjsw4KKb",
        "outputId": "dbd14901-a9bb-46f7-f888-ca8c662de670"
      },
      "execution_count": null,
      "outputs": [
        {
          "output_type": "stream",
          "name": "stdout",
          "text": [
            "Precio predecido para una cada de superficie de 1650 sq-ft y 3 dormitorios (usando la ecuación de la normal): $375526\n"
          ]
        }
      ]
    }
  ]
}