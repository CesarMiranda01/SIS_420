{
  "cells": [
    {
      "cell_type": "code",
      "execution_count": 162,
      "metadata": {
        "id": "I3cTiZZ_2fsD"
      },
      "outputs": [],
      "source": [
        "# EXAMEN PRIMER PARCIAL\n",
        "# DATASET QUE ME TOCO: \tBengaluru House price data\n",
        "# \thttps://www.kaggle.com/datasets/amitabhajoy/bengaluru-house-price-data\n",
        "\n",
        "# MIRANDA GUTIERREZ CESAR ALVARO\n",
        "import os\n",
        "import numpy as np\n",
        "from matplotlib import pyplot\n",
        "from mpl_toolkits.mplot3d import Axes3D\n",
        "%matplotlib inline"
      ]
    },
    {
      "cell_type": "code",
      "execution_count": 163,
      "metadata": {
        "id": "rzVjzh31RqkM"
      },
      "outputs": [],
      "source": [
        "# Importar la biblioteca pandas y se le asigna el alias \"pd\" para facilitar su uso\n",
        "import pandas as pd\n",
        "\n",
        "# Importar la clase LabelEncoder desde el módulo sklearn.preprocessing\n",
        "from sklearn.preprocessing import LabelEncoder\n",
        "\n",
        "# Importar la clase datetime desde el módulo datetime\n",
        "from datetime import datetime\n"
      ]
    },
    {
      "cell_type": "code",
      "execution_count": 164,
      "metadata": {
        "id": "l70Vde994Gas"
      },
      "outputs": [],
      "source": [
        "# Importar la biblioteca pandas y usar la función read_csv para cargar datos desde un archivo CSV\n",
        "# El archivo CSV se encuentra en la ruta '/content/Bengaluru_House_Data.csv'\n",
        "data = pd.read_csv('/content/Bengaluru_House_Data.csv')"
      ]
    },
    {
      "cell_type": "code",
      "execution_count": 165,
      "metadata": {
        "colab": {
          "base_uri": "https://localhost:8080/"
        },
        "id": "AElwA00h4Jw_",
        "outputId": "c427cad0-c95c-4917-d596-63ee6eab1fd3"
      },
      "outputs": [
        {
          "name": "stdout",
          "output_type": "stream",
          "text": [
            "                  area_type   availability                  location  \\\n",
            "0      Super built-up  Area         19-Dec  Electronic City Phase II   \n",
            "1                Plot  Area  Ready To Move          Chikka Tirupathi   \n",
            "2            Built-up  Area  Ready To Move               Uttarahalli   \n",
            "3      Super built-up  Area  Ready To Move        Lingadheeranahalli   \n",
            "4      Super built-up  Area  Ready To Move                  Kothanur   \n",
            "...                     ...            ...                       ...   \n",
            "13315        Built-up  Area  Ready To Move                Whitefield   \n",
            "13316  Super built-up  Area  Ready To Move             Richards Town   \n",
            "13317        Built-up  Area  Ready To Move     Raja Rajeshwari Nagar   \n",
            "13318  Super built-up  Area         18-Jun           Padmanabhanagar   \n",
            "13319  Super built-up  Area  Ready To Move              Doddathoguru   \n",
            "\n",
            "            size  society total_sqft  bath  balcony   price  \n",
            "0          2 BHK  Coomee        1056   2.0      1.0   39.07  \n",
            "1      4 Bedroom  Theanmp       2600   5.0      3.0  120.00  \n",
            "2          3 BHK      NaN       1440   2.0      3.0   62.00  \n",
            "3          3 BHK  Soiewre       1521   3.0      1.0   95.00  \n",
            "4          2 BHK      NaN       1200   2.0      1.0   51.00  \n",
            "...          ...      ...        ...   ...      ...     ...  \n",
            "13315  5 Bedroom  ArsiaEx       3453   4.0      0.0  231.00  \n",
            "13316      4 BHK      NaN       3600   5.0      NaN  400.00  \n",
            "13317      2 BHK  Mahla T       1141   2.0      1.0   60.00  \n",
            "13318      4 BHK  SollyCl       4689   4.0      1.0  488.00  \n",
            "13319      1 BHK      NaN        550   1.0      1.0   17.00  \n",
            "\n",
            "[13320 rows x 9 columns]\n"
          ]
        }
      ],
      "source": [
        "print(data)"
      ]
    },
    {
      "cell_type": "code",
      "execution_count": 166,
      "metadata": {
        "colab": {
          "base_uri": "https://localhost:8080/"
        },
        "id": "ijAQpV2LR-Mq",
        "outputId": "0d98bb58-5b97-40a1-d334-570cb3e2b0c9"
      },
      "outputs": [
        {
          "data": {
            "text/plain": [
              "(13320, 9)"
            ]
          },
          "execution_count": 166,
          "metadata": {},
          "output_type": "execute_result"
        }
      ],
      "source": [
        "# imprimir tamanios\n",
        "data.shape"
      ]
    },
    {
      "cell_type": "code",
      "execution_count": 167,
      "metadata": {
        "colab": {
          "base_uri": "https://localhost:8080/"
        },
        "id": "j1ptDXHATtOE",
        "outputId": "880d8738-6cf2-4d7b-be73-3114b802c3c4"
      },
      "outputs": [
        {
          "name": "stdout",
          "output_type": "stream",
          "text": [
            "<class 'pandas.core.frame.DataFrame'>\n",
            "RangeIndex: 13320 entries, 0 to 13319\n",
            "Data columns (total 9 columns):\n",
            " #   Column        Non-Null Count  Dtype  \n",
            "---  ------        --------------  -----  \n",
            " 0   area_type     13320 non-null  object \n",
            " 1   availability  13320 non-null  object \n",
            " 2   location      13319 non-null  object \n",
            " 3   size          13304 non-null  object \n",
            " 4   society       7818 non-null   object \n",
            " 5   total_sqft    13320 non-null  object \n",
            " 6   bath          13247 non-null  float64\n",
            " 7   balcony       12711 non-null  float64\n",
            " 8   price         13320 non-null  float64\n",
            "dtypes: float64(3), object(6)\n",
            "memory usage: 936.7+ KB\n"
          ]
        }
      ],
      "source": [
        "#imprimir informacion de cada columna\n",
        "data.info()"
      ]
    },
    {
      "cell_type": "code",
      "execution_count": 168,
      "metadata": {
        "colab": {
          "base_uri": "https://localhost:8080/"
        },
        "id": "EhKFV0qmVbJt",
        "outputId": "7e9bf8ce-ecb5-4614-c57c-2d82a67429ef"
      },
      "outputs": [
        {
          "name": "stdout",
          "output_type": "stream",
          "text": [
            "<class 'pandas.core.frame.DataFrame'>\n",
            "RangeIndex: 13320 entries, 0 to 13319\n",
            "Data columns (total 9 columns):\n",
            " #   Column        Non-Null Count  Dtype  \n",
            "---  ------        --------------  -----  \n",
            " 0   area_type     13320 non-null  int64  \n",
            " 1   availability  13320 non-null  int64  \n",
            " 2   location      13320 non-null  int64  \n",
            " 3   size          13320 non-null  int64  \n",
            " 4   society       13320 non-null  int64  \n",
            " 5   total_sqft    13320 non-null  int64  \n",
            " 6   bath          13247 non-null  float64\n",
            " 7   balcony       12711 non-null  float64\n",
            " 8   price         13320 non-null  float64\n",
            "dtypes: float64(3), int64(6)\n",
            "memory usage: 936.7 KB\n"
          ]
        }
      ],
      "source": [
        "#CONVERTIR VARIABLES CATEGORICAS A ENTEROS (no modificar)\n",
        "#variables categoricas, contiene las listas de las columnas de data que tienen tipo de dato object.\n",
        "columnas_categoricas = data.select_dtypes(include=['object']).columns\n",
        "for columna in columnas_categoricas:\n",
        "  #usa labelencoder para crear objeto llamado le, que permite transformar valores categoricos a enteros.\n",
        "  le = LabelEncoder()\n",
        "  # usa lift_transform del objeto le para ajustar el codificador a los valores de la columna y devolver una serie d enumero enteros\n",
        "  data[columna] = le.fit_transform(data[columna])\n",
        "data.info()"
      ]
    },
    {
      "cell_type": "code",
      "execution_count": 169,
      "metadata": {
        "colab": {
          "base_uri": "https://localhost:8080/"
        },
        "id": "qjHe80thb1nS",
        "outputId": "c4ad9cc3-8bcc-4386-cf2d-bbd1320c4c46"
      },
      "outputs": [
        {
          "name": "stdout",
          "output_type": "stream",
          "text": [
            "<class 'pandas.core.frame.DataFrame'>\n",
            "RangeIndex: 13320 entries, 0 to 13319\n",
            "Data columns (total 9 columns):\n",
            " #   Column        Non-Null Count  Dtype  \n",
            "---  ------        --------------  -----  \n",
            " 0   area_type     13320 non-null  int64  \n",
            " 1   availability  13320 non-null  int64  \n",
            " 2   location      13320 non-null  int64  \n",
            " 3   size          13320 non-null  int64  \n",
            " 4   society       13320 non-null  int64  \n",
            " 5   total_sqft    13320 non-null  int64  \n",
            " 6   bath          13320 non-null  float64\n",
            " 7   balcony       13320 non-null  float64\n",
            " 8   price         13320 non-null  float64\n",
            "dtypes: float64(3), int64(6)\n",
            "memory usage: 936.7 KB\n"
          ]
        }
      ],
      "source": [
        "#RELLENAR DATOS (si modificar)\n",
        "#asignar las columnas incompletas. (modificar solo esto)\n",
        "columnas_especificas = ['bath', 'balcony']\n",
        "#sacar la media de toda la columna y con ese valor llenar esos datos vacios.\n",
        "media_columnas = data[columnas_especificas].mean()\n",
        "#llenar\n",
        "data[columnas_especificas] = data[columnas_especificas].fillna(media_columnas)\n",
        "data.info()"
      ]
    },
    {
      "cell_type": "code",
      "execution_count": 170,
      "metadata": {
        "id": "jNnJKobZ4jA2"
      },
      "outputs": [],
      "source": [
        "# Lectura de Datos: 8 columnas para x y la ultima columan para y\n",
        "X = data.iloc[:, :8]\n",
        "y = data.iloc[:, 8]\n",
        "m = y.size"
      ]
    },
    {
      "cell_type": "code",
      "execution_count": 171,
      "metadata": {
        "colab": {
          "base_uri": "https://localhost:8080/"
        },
        "id": "toj_XDKe4qgT",
        "outputId": "baf0415b-f421-40a9-929d-12d093806751"
      },
      "outputs": [
        {
          "name": "stdout",
          "output_type": "stream",
          "text": [
            "       area_type  availability  location  size  society  total_sqft  bath  \\\n",
            "0              3            40       419    13      464          70   2.0   \n",
            "1              2            80       317    19     2439        1288   5.0   \n",
            "2              0            80      1179    16     2688         514   2.0   \n",
            "3              3            80       757    16     2186         602   3.0   \n",
            "4              3            80       716    13     2688         239   2.0   \n",
            "...          ...           ...       ...   ...      ...         ...   ...   \n",
            "13315          0            80      1252    22      209        1499   4.0   \n",
            "13316          3            80      1004    18     2688        1535   5.0   \n",
            "13317          0            80       972    13     1216         172   2.0   \n",
            "13318          3            32       907    18     2205        1680   4.0   \n",
            "13319          3            80       396     0     2688        1747   1.0   \n",
            "\n",
            "        balcony  \n",
            "0      1.000000  \n",
            "1      3.000000  \n",
            "2      3.000000  \n",
            "3      1.000000  \n",
            "4      1.000000  \n",
            "...         ...  \n",
            "13315  0.000000  \n",
            "13316  1.584376  \n",
            "13317  1.000000  \n",
            "13318  1.000000  \n",
            "13319  1.000000  \n",
            "\n",
            "[13320 rows x 8 columns]\n",
            "*************************\n",
            "0         39.07\n",
            "1        120.00\n",
            "2         62.00\n",
            "3         95.00\n",
            "4         51.00\n",
            "          ...  \n",
            "13315    231.00\n",
            "13316    400.00\n",
            "13317     60.00\n",
            "13318    488.00\n",
            "13319     17.00\n",
            "Name: price, Length: 13320, dtype: float64\n"
          ]
        }
      ],
      "source": [
        "print(X)\n",
        "print('*'*25)\n",
        "print(y)"
      ]
    },
    {
      "cell_type": "code",
      "execution_count": 172,
      "metadata": {
        "id": "RBTilcOD2xrc"
      },
      "outputs": [],
      "source": [
        "# Definir una función para normalizar características en un rango específico, en este caso, de 0 a 1\n",
        "def normalizarCaracteristicas(X):\n",
        "    # Crear una copia de la matriz de características para evitar modificar la original\n",
        "    X_norm = X.copy()\n",
        "\n",
        "    # Inicializar vectores para la media (mu) y la desviación estándar (sigma)\n",
        "    mu = np.zeros(X.shape[1])\n",
        "    sigma = np.zeros(X.shape[1])\n",
        "\n",
        "    # Calcular la media y la desviación estándar de cada columna de la matriz de características\n",
        "    mu = np.mean(X, axis=0)\n",
        "    sigma = np.std(X, axis=0)\n",
        "\n",
        "    # Normalizar las características restando la media y dividiendo por la desviación estándar\n",
        "    X_norm = (X - mu) / sigma\n",
        "\n",
        "    # Devolver la matriz de características normalizada, la media y la desviación estándar\n",
        "    return X_norm, mu, sigma\n"
      ]
    },
    {
      "cell_type": "code",
      "execution_count": 173,
      "metadata": {
        "colab": {
          "base_uri": "https://localhost:8080/"
        },
        "id": "WKkN5g1j22lK",
        "outputId": "b4a40983-1da3-4bac-debd-bb6c734af345"
      },
      "outputs": [
        {
          "name": "stdout",
          "output_type": "stream",
          "text": [
            "       area_type  availability  location  size  society  total_sqft  bath  \\\n",
            "0              3            40       419    13      464          70   2.0   \n",
            "1              2            80       317    19     2439        1288   5.0   \n",
            "2              0            80      1179    16     2688         514   2.0   \n",
            "3              3            80       757    16     2186         602   3.0   \n",
            "4              3            80       716    13     2688         239   2.0   \n",
            "...          ...           ...       ...   ...      ...         ...   ...   \n",
            "13315          0            80      1252    22      209        1499   4.0   \n",
            "13316          3            80      1004    18     2688        1535   5.0   \n",
            "13317          0            80       972    13     1216         172   2.0   \n",
            "13318          3            32       907    18     2205        1680   4.0   \n",
            "13319          3            80       396     0     2688        1747   1.0   \n",
            "\n",
            "        balcony  \n",
            "0      1.000000  \n",
            "1      3.000000  \n",
            "2      3.000000  \n",
            "3      1.000000  \n",
            "4      1.000000  \n",
            "...         ...  \n",
            "13315  0.000000  \n",
            "13316  1.584376  \n",
            "13317  1.000000  \n",
            "13318  1.000000  \n",
            "13319  1.000000  \n",
            "\n",
            "[13320 rows x 8 columns]\n",
            "Media calculada: area_type          2.290315\n",
            "availability      71.081156\n",
            "location         672.659009\n",
            "size              14.812913\n",
            "society         1906.121547\n",
            "total_sqft       762.983258\n",
            "bath               2.692610\n",
            "balcony            1.584376\n",
            "dtype: float64\n",
            "Desviación estandar calculada: area_type         1.143803\n",
            "availability     18.512477\n",
            "location        365.011104\n",
            "size              4.490445\n",
            "society         865.605354\n",
            "total_sqft      630.479028\n",
            "bath              1.337727\n",
            "balcony           0.798331\n",
            "dtype: float64\n",
            "       area_type  availability  location      size   society  total_sqft  \\\n",
            "0       0.620461     -1.678930 -0.694935 -0.403727 -1.666027   -1.099138   \n",
            "1      -0.253816      0.481775 -0.974379  0.932444  0.615614    0.832727   \n",
            "2      -2.002369      0.481775  1.387193  0.264358  0.903274   -0.394911   \n",
            "3       0.620461      0.481775  0.231064  0.264358  0.323333   -0.255335   \n",
            "4       0.620461      0.481775  0.118739 -0.403727  0.903274   -0.831088   \n",
            "...          ...           ...       ...       ...       ...         ...   \n",
            "13315  -2.002369      0.481775  1.587187  1.600529 -1.960618    1.167393   \n",
            "13316   0.620461      0.481775  0.907756  0.709749  0.903274    1.224492   \n",
            "13317  -2.002369      0.481775  0.820087 -0.403727 -0.797270   -0.937356   \n",
            "13318   0.620461     -2.111071  0.642011  0.709749  0.345283    1.454476   \n",
            "13319   0.620461      0.481775 -0.757947 -3.298763  0.903274    1.560745   \n",
            "\n",
            "           bath       balcony  \n",
            "0     -0.517751 -7.319972e-01  \n",
            "1      1.724859  1.773231e+00  \n",
            "2     -0.517751  1.773231e+00  \n",
            "3      0.229786 -7.319972e-01  \n",
            "4     -0.517751 -7.319972e-01  \n",
            "...         ...           ...  \n",
            "13315  0.977323 -1.984611e+00  \n",
            "13316  1.724859 -2.781362e-16  \n",
            "13317 -0.517751 -7.319972e-01  \n",
            "13318  0.977323 -7.319972e-01  \n",
            "13319 -1.265288 -7.319972e-01  \n",
            "\n",
            "[13320 rows x 8 columns]\n"
          ]
        }
      ],
      "source": [
        "# CALCULAR X_NOM, MEDIA Y DESVIACION ESTANDAR (no modificar)\n",
        "X_norm, mu, sigma = normalizarCaracteristicas(X)\n",
        "print(X)\n",
        "print('Media calculada:', mu)\n",
        "print('Desviación estandar calculada:', sigma)\n",
        "print(X_norm)"
      ]
    },
    {
      "cell_type": "code",
      "execution_count": 174,
      "metadata": {
        "id": "qW3Pru-02-qi"
      },
      "outputs": [],
      "source": [
        "\n",
        "X = np.concatenate([np.ones((m, 1)), X_norm], axis=1)"
      ]
    },
    {
      "cell_type": "code",
      "execution_count": 175,
      "metadata": {
        "colab": {
          "base_uri": "https://localhost:8080/"
        },
        "id": "zceujpBK7KJk",
        "outputId": "ca9c3eb8-ad67-40f8-8df5-53c13fef9379"
      },
      "outputs": [
        {
          "name": "stdout",
          "output_type": "stream",
          "text": [
            "[[ 1.          0.62046076 -1.67893016 ... -1.09913768 -0.51775126\n",
            "  -0.73199725]\n",
            " [ 1.         -0.25381591  0.48177474 ...  0.83272673  1.72485942\n",
            "   1.77323081]\n",
            " [ 1.         -2.00236924  0.48177474 ... -0.39491125 -0.51775126\n",
            "   1.77323081]\n",
            " ...\n",
            " [ 1.         -2.00236924  0.48177474 ... -0.93735593 -0.51775126\n",
            "  -0.73199725]\n",
            " [ 1.          0.62046076 -2.11107115 ...  1.4544762   0.97732252\n",
            "  -0.73199725]\n",
            " [ 1.          0.62046076  0.48177474 ...  1.56074461 -1.26528816\n",
            "  -0.73199725]]\n"
          ]
        }
      ],
      "source": [
        "\n",
        "print(X)"
      ]
    },
    {
      "cell_type": "code",
      "execution_count": 176,
      "metadata": {
        "colab": {
          "base_uri": "https://localhost:8080/"
        },
        "id": "M-k7ZYAh24_2",
        "outputId": "927052bd-17c7-4482-b911-fc41b0d29ee5"
      },
      "outputs": [
        {
          "name": "stdout",
          "output_type": "stream",
          "text": [
            "[[ 1.          0.62046076 -1.67893016 ... -1.09913768 -0.51775126\n",
            "  -0.73199725]\n",
            " [ 1.         -0.25381591  0.48177474 ...  0.83272673  1.72485942\n",
            "   1.77323081]\n",
            " [ 1.         -2.00236924  0.48177474 ... -0.39491125 -0.51775126\n",
            "   1.77323081]\n",
            " ...\n",
            " [ 1.         -2.00236924  0.48177474 ... -0.93735593 -0.51775126\n",
            "  -0.73199725]\n",
            " [ 1.          0.62046076 -2.11107115 ...  1.4544762   0.97732252\n",
            "  -0.73199725]\n",
            " [ 1.          0.62046076  0.48177474 ...  1.56074461 -1.26528816\n",
            "  -0.73199725]]\n"
          ]
        }
      ],
      "source": [
        "print(X)"
      ]
    },
    {
      "cell_type": "code",
      "execution_count": 177,
      "metadata": {
        "id": "Svn8JldG3Bwk"
      },
      "outputs": [],
      "source": [
        "# CALCULAR LA 'Y' (no modificar)\n",
        "def calcularCosto(X, y, theta):\n",
        "  m = y.size\n",
        "  J = 0\n",
        "  #la formula de costo, hipotesis\n",
        "  h = np.dot(X, theta)\n",
        "  # print(h)\n",
        "  J = (1/(2 * m)) * np.sum(np.square(np.dot(X, theta) - y))\n",
        "  return J"
      ]
    },
    {
      "cell_type": "code",
      "execution_count": 178,
      "metadata": {
        "colab": {
          "base_uri": "https://localhost:8080/"
        },
        "id": "NtewlMZ6jyIi",
        "outputId": "69c83bdd-a918-489e-e3bf-fbc2bfb1da80"
      },
      "outputs": [
        {
          "name": "stdout",
          "output_type": "stream",
          "text": [
            "con theta:[0.1 5.  0.1 0.1 5.  0.1 0.1 5.  0.1] se obtiene un costo de: 16919.312953221746\n"
          ]
        }
      ],
      "source": [
        "#aqui estoy poniendo los valroes para theta.\n",
        "# la cantidad de theta es igual a numero de columnas de dataset original\n",
        "theta=np.array([0.1, 5.0, 0.1, 0.1, 5.0, 0.1, 0.1, 5.0, 0.1])\n",
        "JJ = calcularCosto(X, y, theta)\n",
        "# con esso thetas obtenemos un costo.\n",
        "print(f\"con theta:{ theta } se obtiene un costo de: {JJ}\")"
      ]
    },
    {
      "cell_type": "code",
      "execution_count": 179,
      "metadata": {
        "id": "bfCxEYeQ3HAQ"
      },
      "outputs": [],
      "source": [
        "# FUNCION DESCENSO GRADIENTE 1ER METODO (no modificar)\n",
        "def calcularDescensoGradiente(X, y, theta, alpha, numero_iteraciones):\n",
        "  m = y.shape[0]\n",
        "  theta = theta.copy()\n",
        "  J_historico = []\n",
        "\n",
        "  for i in range(numero_iteraciones):\n",
        "    theta = theta - (alpha / m) * (np.dot(X, theta) - y).dot(X)\n",
        "    J_historico.append(calcularCosto(X, y, theta))\n",
        "\n",
        "  return theta, J_historico"
      ]
    },
    {
      "cell_type": "code",
      "execution_count": 180,
      "metadata": {
        "id": "MG1b59EZ-igG"
      },
      "outputs": [],
      "source": [
        "# INICIALIZAR VALORES,\n",
        "# Elige un valor para el parámetro alpha, que es la tasa de aprendizaje del algoritmo del descenso por el gradiente.\n",
        "alpha = 0.01\n",
        "# Este valor determina el número de veces que se actualizan los parámetros theta en dirección opuesta al gradiente o pendiente de la función de costo o error.\n",
        "num_ite = 10000\n",
        "#inicializa theta y ejecuta el descenso por el gradiente\n",
        "theta = np.zeros(9)"
      ]
    },
    {
      "cell_type": "code",
      "execution_count": 181,
      "metadata": {
        "colab": {
          "base_uri": "https://localhost:8080/",
          "height": 518
        },
        "id": "Ju7vigfd9aOY",
        "outputId": "64b3435f-ef43-415c-95ea-bb8a07e8acdc"
      },
      "outputs": [
        {
          "name": "stdout",
          "output_type": "stream",
          "text": [
            " 1RA RESPUESTA: LOS VALORES DE THETAS CON DESCENSO POR EL GRADIENTE. SON: [112.5656265    0.79576564  -1.05473899   1.35881783  15.18466776\n",
            "  -0.20907301  26.46830521  52.45362479   3.92363648]\n",
            "con un costo de: 8461.464101602976 \n"
          ]
        },
        {
          "data": {
            "text/plain": [
              "Text(0, 0.5, 'Ventas de Salida')"
            ]
          },
          "execution_count": 181,
          "metadata": {},
          "output_type": "execute_result"
        },
        {
          "data": {
            "image/png": "[encoded data removed]",
            "text/plain": [
              "<Figure size 640x480 with 1 Axes>"
            ]
          },
          "metadata": {},
          "output_type": "display_data"
        }
      ],
      "source": [
        "theta, J_historico = calcularDescensoGradiente(X, y, theta, alpha, num_ite)\n",
        "print(f\" 1RA RESPUESTA: LOS VALORES DE THETAS CON DESCENSO POR EL GRADIENTE. SON: { theta }\")\n",
        "print(f\"con un costo de: { J_historico[-1]} \")\n",
        "# Grafica la convergencia del costo\n",
        "# Grafica la convergencia del costo utilizando la librería pyplot. Para hacer esto, utiliza el método plot para dibujar una línea que conecta los puntos formados por el número de iteraciones (np.arange(len(J_history))) y el valor del costo (J_history).\n",
        "# El parámetro lw=2 indica que el grosor de la línea es 2. Luego, utiliza los métodos xlabel e ylabel para asignar etiquetas a los ejes horizontal y vertical,\n",
        "pyplot.plot(np.arange(len(J_historico)), J_historico, lw=2)\n",
        "pyplot.xlabel('Numero de iteraciones')\n",
        "pyplot.ylabel('Ventas de Salida')"
      ]
    },
    {
      "cell_type": "code",
      "execution_count": 182,
      "metadata": {
        "id": "T3aJOQcGyWnC"
      },
      "outputs": [],
      "source": [
        "# DAR VALORES A Xs:\n",
        "# el primer valor de X0 es 1 esto es ctte, los otros valores de Xs se modifica, (aqui no se cuenta la columna de 'Y\")\n",
        "# para asignar valores fijarse los valores de\n",
        "X_array = [1,5,1,0.1,9,5,3,3,3]"
      ]
    },
    {
      "cell_type": "code",
      "execution_count": 183,
      "metadata": {
        "colab": {
          "base_uri": "https://localhost:8080/"
        },
        "id": "HC2bM23x3Epi",
        "outputId": "bcbcbd11-cb8f-4e46-d428-8e5baab5a1d5"
      },
      "outputs": [
        {
          "name": "stdout",
          "output_type": "stream",
          "text": [
            "1RA RESPUESTA: El valor predecido es (usando el descenso por el gradiente): 499.7789\n"
          ]
        }
      ],
      "source": [
        "# CALCULAR 'Y' POR EL METODO DE DESCENSO POR EL GRADIENTE\n",
        "#ingresar los valores de Xs\n",
        "y_predDesGrad = np.dot(X_array,theta)\n",
        "print('1RA RESPUESTA: El valor predecido es (usando el descenso por el gradiente): {:.4f}'.format(y_predDesGrad))"
      ]
    },
    {
      "cell_type": "code",
      "execution_count": 184,
      "metadata": {
        "id": "YWKW8Kxd4BQs"
      },
      "outputs": [],
      "source": [
        "# CALCULO DE THETAS PO METODO DE ECUACION DE LA NORMAL: SEGUNDO METODO (no modificar)\n",
        "def calcularThethaEcuacionNormal(X, y):\n",
        "    theta = np.zeros(X.shape[1])\n",
        "    theta = np.dot(np.dot(np.linalg.inv(np.dot(X.T,X)),X.T),y)\n",
        "    return theta"
      ]
    },
    {
      "cell_type": "code",
      "execution_count": 189,
      "metadata": {
        "id": "SOxecsCN4EA-"
      },
      "outputs": [],
      "source": [
        "X_ren = np.concatenate([np.ones((m, 1)), X], axis=1)"
      ]
    },
    {
      "cell_type": "code",
      "execution_count": 190,
      "metadata": {
        "colab": {
          "base_uri": "https://localhost:8080/"
        },
        "id": "imY9tdY-cuFi",
        "outputId": "b6ec7ad8-14e2-41b4-aed7-723d63bc81e9"
      },
      "outputs": [
        {
          "name": "stdout",
          "output_type": "stream",
          "text": [
            "2DA RESPUESTA: LOS VALORES DE THETAS CON EC DE LA NORMAL SON: [112.5656265    0.79576564  -1.05473899   1.35881783  15.18466776\n",
            "  -0.20907301  26.46830521  52.45362479   3.92363648]\n"
          ]
        }
      ],
      "source": [
        "# Elimina el primer predictor de X_ren\n",
        "X_ren = X_ren[:, 1:]\n",
        "\n",
        "# Calcula theta\n",
        "theta = calcularThethaEcuacionNormal(X_ren, y);\n",
        "\n",
        "# Imprime theta\n",
        "print(f\"2DA RESPUESTA: LOS VALORES DE THETAS CON EC DE LA NORMAL SON: { theta }\")"
      ]
    },
    {
      "cell_type": "code",
      "execution_count": 191,
      "metadata": {
        "colab": {
          "base_uri": "https://localhost:8080/"
        },
        "id": "xoEdAz-Y4IIk",
        "outputId": "a8f771f2-94a5-427e-e0ef-4d0e7d90ef57"
      },
      "outputs": [
        {
          "name": "stdout",
          "output_type": "stream",
          "text": [
            "2DA RESPUESTA: LOS VALORES DE THETAS CON EC DE LA NORMAL SON: [112.5656265    0.79576564  -1.05473899   1.35881783  15.18466776\n",
            "  -0.20907301  26.46830521  52.45362479   3.92363648]\n"
          ]
        }
      ],
      "source": [
        "theta = calcularThethaEcuacionNormal(X_ren, y);\n",
        "print(f\"2DA RESPUESTA: LOS VALORES DE THETAS CON EC DE LA NORMAL SON: { theta }\")"
      ]
    },
    {
      "cell_type": "code",
      "execution_count": 192,
      "metadata": {
        "colab": {
          "base_uri": "https://localhost:8080/"
        },
        "id": "W9wRQjsw4KKb",
        "outputId": "debaab42-5343-46bc-b38f-5a3e3ca68751"
      },
      "outputs": [
        {
          "name": "stdout",
          "output_type": "stream",
          "text": [
            "2DA RESPUESTA: La venta precedida (usando la ecuación de la normal): $500\n"
          ]
        }
      ],
      "source": [
        "# CALCULAR 'Y' POR EL METODO DE ECUACION DE LA NORMAL\n",
        "price = np.dot(X_array, theta)\n",
        "print('2DA RESPUESTA: La venta precedida (usando la ecuación de la normal): ${:.0f}'.format(price))"
      ]
    }
  ],
  "metadata": {
    "colab": {
      "provenance": []
    },
    "kernelspec": {
      "display_name": "Python 3",
      "name": "python3"
    },
    "language_info": {
      "name": "python"
    }
  },
  "nbformat": 4,
  "nbformat_minor": 0
}
